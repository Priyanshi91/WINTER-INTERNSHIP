{
  "nbformat": 4,
  "nbformat_minor": 0,
  "metadata": {
    "colab": {
      "provenance": []
    },
    "kernelspec": {
      "name": "python3",
      "display_name": "Python 3"
    },
    "language_info": {
      "name": "python"
    }
  },
  "cells": [
    {
      "cell_type": "code",
      "execution_count": 1,
      "metadata": {
        "id": "q9y-cFzYKayS"
      },
      "outputs": [],
      "source": [
        "import numpy as np\n",
        "import pandas as pd\n",
        "import seaborn as sns\n",
        "import matplotlib.pyplot as plt"
      ]
    },
    {
      "cell_type": "code",
      "source": [
        "car=pd.read_csv(\"/content/cars_ds_final.csv\",index_col=0)"
      ],
      "metadata": {
        "id": "amxX4gNLK12G"
      },
      "execution_count": 2,
      "outputs": []
    },
    {
      "cell_type": "code",
      "source": [
        "car.shape"
      ],
      "metadata": {
        "colab": {
          "base_uri": "https://localhost:8080/"
        },
        "id": "-iWpDxDyK6qM",
        "outputId": "2ceaab61-653c-40f1-e571-a5d018c4b085"
      },
      "execution_count": 3,
      "outputs": [
        {
          "output_type": "execute_result",
          "data": {
            "text/plain": [
              "(1276, 140)"
            ]
          },
          "metadata": {},
          "execution_count": 3
        }
      ]
    },
    {
      "cell_type": "code",
      "source": [
        "car.head()"
      ],
      "metadata": {
        "colab": {
          "base_uri": "https://localhost:8080/",
          "height": 446
        },
        "id": "KrCBcJ-CK9OE",
        "outputId": "a973588b-8dd1-458e-826f-839e78f193ee"
      },
      "execution_count": 4,
      "outputs": [
        {
          "output_type": "execute_result",
          "data": {
            "text/plain": [
              "   Make      Model  Variant Ex-Showroom_Price Displacement  Cylinders  \\\n",
              "0  Tata  Nano Genx       Xt      Rs. 2,92,667       624 cc        2.0   \n",
              "1  Tata  Nano Genx       Xe      Rs. 2,36,447       624 cc        2.0   \n",
              "2  Tata  Nano Genx  Emax Xm      Rs. 2,96,661       624 cc        2.0   \n",
              "3  Tata  Nano Genx      Xta      Rs. 3,34,768       624 cc        2.0   \n",
              "4  Tata  Nano Genx       Xm      Rs. 2,72,223       624 cc        2.0   \n",
              "\n",
              "   Valves_Per_Cylinder              Drivetrain Cylinder_Configuration  \\\n",
              "0                  2.0  RWD (Rear Wheel Drive)                In-line   \n",
              "1                  2.0  RWD (Rear Wheel Drive)                In-line   \n",
              "2                  2.0  RWD (Rear Wheel Drive)                In-line   \n",
              "3                  2.0  RWD (Rear Wheel Drive)                In-line   \n",
              "4                  2.0  RWD (Rear Wheel Drive)                In-line   \n",
              "\n",
              "  Emission_Norm  ... Leather_Wrapped_Steering Automatic_Headlamps Engine_Type  \\\n",
              "0         BS IV  ...                      NaN                 NaN         NaN   \n",
              "1         BS IV  ...                      NaN                 NaN         NaN   \n",
              "2         BS IV  ...                      NaN                 NaN         NaN   \n",
              "3         BS IV  ...                      NaN                 NaN         NaN   \n",
              "4         BS IV  ...                      NaN                 NaN         NaN   \n",
              "\n",
              "  ASR_/_Traction_Control Cruise_Control USB_Ports Heads-Up_Display  \\\n",
              "0                    NaN            NaN       NaN              NaN   \n",
              "1                    NaN            NaN       NaN              NaN   \n",
              "2                    NaN            NaN       NaN              NaN   \n",
              "3                    NaN            NaN       NaN              NaN   \n",
              "4                    NaN            NaN       NaN              NaN   \n",
              "\n",
              "  Welcome_Lights  Battery Electric_Range  \n",
              "0            NaN      NaN            NaN  \n",
              "1            NaN      NaN            NaN  \n",
              "2            NaN      NaN            NaN  \n",
              "3            NaN      NaN            NaN  \n",
              "4            NaN      NaN            NaN  \n",
              "\n",
              "[5 rows x 140 columns]"
            ],
            "text/html": [
              "\n",
              "  <div id=\"df-9fff70e4-afae-48c2-b322-81487e7e5277\" class=\"colab-df-container\">\n",
              "    <div>\n",
              "<style scoped>\n",
              "    .dataframe tbody tr th:only-of-type {\n",
              "        vertical-align: middle;\n",
              "    }\n",
              "\n",
              "    .dataframe tbody tr th {\n",
              "        vertical-align: top;\n",
              "    }\n",
              "\n",
              "    .dataframe thead th {\n",
              "        text-align: right;\n",
              "    }\n",
              "</style>\n",
              "<table border=\"1\" class=\"dataframe\">\n",
              "  <thead>\n",
              "    <tr style=\"text-align: right;\">\n",
              "      <th></th>\n",
              "      <th>Make</th>\n",
              "      <th>Model</th>\n",
              "      <th>Variant</th>\n",
              "      <th>Ex-Showroom_Price</th>\n",
              "      <th>Displacement</th>\n",
              "      <th>Cylinders</th>\n",
              "      <th>Valves_Per_Cylinder</th>\n",
              "      <th>Drivetrain</th>\n",
              "      <th>Cylinder_Configuration</th>\n",
              "      <th>Emission_Norm</th>\n",
              "      <th>...</th>\n",
              "      <th>Leather_Wrapped_Steering</th>\n",
              "      <th>Automatic_Headlamps</th>\n",
              "      <th>Engine_Type</th>\n",
              "      <th>ASR_/_Traction_Control</th>\n",
              "      <th>Cruise_Control</th>\n",
              "      <th>USB_Ports</th>\n",
              "      <th>Heads-Up_Display</th>\n",
              "      <th>Welcome_Lights</th>\n",
              "      <th>Battery</th>\n",
              "      <th>Electric_Range</th>\n",
              "    </tr>\n",
              "  </thead>\n",
              "  <tbody>\n",
              "    <tr>\n",
              "      <th>0</th>\n",
              "      <td>Tata</td>\n",
              "      <td>Nano Genx</td>\n",
              "      <td>Xt</td>\n",
              "      <td>Rs. 2,92,667</td>\n",
              "      <td>624 cc</td>\n",
              "      <td>2.0</td>\n",
              "      <td>2.0</td>\n",
              "      <td>RWD (Rear Wheel Drive)</td>\n",
              "      <td>In-line</td>\n",
              "      <td>BS IV</td>\n",
              "      <td>...</td>\n",
              "      <td>NaN</td>\n",
              "      <td>NaN</td>\n",
              "      <td>NaN</td>\n",
              "      <td>NaN</td>\n",
              "      <td>NaN</td>\n",
              "      <td>NaN</td>\n",
              "      <td>NaN</td>\n",
              "      <td>NaN</td>\n",
              "      <td>NaN</td>\n",
              "      <td>NaN</td>\n",
              "    </tr>\n",
              "    <tr>\n",
              "      <th>1</th>\n",
              "      <td>Tata</td>\n",
              "      <td>Nano Genx</td>\n",
              "      <td>Xe</td>\n",
              "      <td>Rs. 2,36,447</td>\n",
              "      <td>624 cc</td>\n",
              "      <td>2.0</td>\n",
              "      <td>2.0</td>\n",
              "      <td>RWD (Rear Wheel Drive)</td>\n",
              "      <td>In-line</td>\n",
              "      <td>BS IV</td>\n",
              "      <td>...</td>\n",
              "      <td>NaN</td>\n",
              "      <td>NaN</td>\n",
              "      <td>NaN</td>\n",
              "      <td>NaN</td>\n",
              "      <td>NaN</td>\n",
              "      <td>NaN</td>\n",
              "      <td>NaN</td>\n",
              "      <td>NaN</td>\n",
              "      <td>NaN</td>\n",
              "      <td>NaN</td>\n",
              "    </tr>\n",
              "    <tr>\n",
              "      <th>2</th>\n",
              "      <td>Tata</td>\n",
              "      <td>Nano Genx</td>\n",
              "      <td>Emax Xm</td>\n",
              "      <td>Rs. 2,96,661</td>\n",
              "      <td>624 cc</td>\n",
              "      <td>2.0</td>\n",
              "      <td>2.0</td>\n",
              "      <td>RWD (Rear Wheel Drive)</td>\n",
              "      <td>In-line</td>\n",
              "      <td>BS IV</td>\n",
              "      <td>...</td>\n",
              "      <td>NaN</td>\n",
              "      <td>NaN</td>\n",
              "      <td>NaN</td>\n",
              "      <td>NaN</td>\n",
              "      <td>NaN</td>\n",
              "      <td>NaN</td>\n",
              "      <td>NaN</td>\n",
              "      <td>NaN</td>\n",
              "      <td>NaN</td>\n",
              "      <td>NaN</td>\n",
              "    </tr>\n",
              "    <tr>\n",
              "      <th>3</th>\n",
              "      <td>Tata</td>\n",
              "      <td>Nano Genx</td>\n",
              "      <td>Xta</td>\n",
              "      <td>Rs. 3,34,768</td>\n",
              "      <td>624 cc</td>\n",
              "      <td>2.0</td>\n",
              "      <td>2.0</td>\n",
              "      <td>RWD (Rear Wheel Drive)</td>\n",
              "      <td>In-line</td>\n",
              "      <td>BS IV</td>\n",
              "      <td>...</td>\n",
              "      <td>NaN</td>\n",
              "      <td>NaN</td>\n",
              "      <td>NaN</td>\n",
              "      <td>NaN</td>\n",
              "      <td>NaN</td>\n",
              "      <td>NaN</td>\n",
              "      <td>NaN</td>\n",
              "      <td>NaN</td>\n",
              "      <td>NaN</td>\n",
              "      <td>NaN</td>\n",
              "    </tr>\n",
              "    <tr>\n",
              "      <th>4</th>\n",
              "      <td>Tata</td>\n",
              "      <td>Nano Genx</td>\n",
              "      <td>Xm</td>\n",
              "      <td>Rs. 2,72,223</td>\n",
              "      <td>624 cc</td>\n",
              "      <td>2.0</td>\n",
              "      <td>2.0</td>\n",
              "      <td>RWD (Rear Wheel Drive)</td>\n",
              "      <td>In-line</td>\n",
              "      <td>BS IV</td>\n",
              "      <td>...</td>\n",
              "      <td>NaN</td>\n",
              "      <td>NaN</td>\n",
              "      <td>NaN</td>\n",
              "      <td>NaN</td>\n",
              "      <td>NaN</td>\n",
              "      <td>NaN</td>\n",
              "      <td>NaN</td>\n",
              "      <td>NaN</td>\n",
              "      <td>NaN</td>\n",
              "      <td>NaN</td>\n",
              "    </tr>\n",
              "  </tbody>\n",
              "</table>\n",
              "<p>5 rows × 140 columns</p>\n",
              "</div>\n",
              "    <div class=\"colab-df-buttons\">\n",
              "\n",
              "  <div class=\"colab-df-container\">\n",
              "    <button class=\"colab-df-convert\" onclick=\"convertToInteractive('df-9fff70e4-afae-48c2-b322-81487e7e5277')\"\n",
              "            title=\"Convert this dataframe to an interactive table.\"\n",
              "            style=\"display:none;\">\n",
              "\n",
              "  <svg xmlns=\"http://www.w3.org/2000/svg\" height=\"24px\" viewBox=\"0 -960 960 960\">\n",
              "    <path d=\"M120-120v-720h720v720H120Zm60-500h600v-160H180v160Zm220 220h160v-160H400v160Zm0 220h160v-160H400v160ZM180-400h160v-160H180v160Zm440 0h160v-160H620v160ZM180-180h160v-160H180v160Zm440 0h160v-160H620v160Z\"/>\n",
              "  </svg>\n",
              "    </button>\n",
              "\n",
              "  <style>\n",
              "    .colab-df-container {\n",
              "      display:flex;\n",
              "      gap: 12px;\n",
              "    }\n",
              "\n",
              "    .colab-df-convert {\n",
              "      background-color: #E8F0FE;\n",
              "      border: none;\n",
              "      border-radius: 50%;\n",
              "      cursor: pointer;\n",
              "      display: none;\n",
              "      fill: #1967D2;\n",
              "      height: 32px;\n",
              "      padding: 0 0 0 0;\n",
              "      width: 32px;\n",
              "    }\n",
              "\n",
              "    .colab-df-convert:hover {\n",
              "      background-color: #E2EBFA;\n",
              "      box-shadow: 0px 1px 2px rgba(60, 64, 67, 0.3), 0px 1px 3px 1px rgba(60, 64, 67, 0.15);\n",
              "      fill: #174EA6;\n",
              "    }\n",
              "\n",
              "    .colab-df-buttons div {\n",
              "      margin-bottom: 4px;\n",
              "    }\n",
              "\n",
              "    [theme=dark] .colab-df-convert {\n",
              "      background-color: #3B4455;\n",
              "      fill: #D2E3FC;\n",
              "    }\n",
              "\n",
              "    [theme=dark] .colab-df-convert:hover {\n",
              "      background-color: #434B5C;\n",
              "      box-shadow: 0px 1px 3px 1px rgba(0, 0, 0, 0.15);\n",
              "      filter: drop-shadow(0px 1px 2px rgba(0, 0, 0, 0.3));\n",
              "      fill: #FFFFFF;\n",
              "    }\n",
              "  </style>\n",
              "\n",
              "    <script>\n",
              "      const buttonEl =\n",
              "        document.querySelector('#df-9fff70e4-afae-48c2-b322-81487e7e5277 button.colab-df-convert');\n",
              "      buttonEl.style.display =\n",
              "        google.colab.kernel.accessAllowed ? 'block' : 'none';\n",
              "\n",
              "      async function convertToInteractive(key) {\n",
              "        const element = document.querySelector('#df-9fff70e4-afae-48c2-b322-81487e7e5277');\n",
              "        const dataTable =\n",
              "          await google.colab.kernel.invokeFunction('convertToInteractive',\n",
              "                                                    [key], {});\n",
              "        if (!dataTable) return;\n",
              "\n",
              "        const docLinkHtml = 'Like what you see? Visit the ' +\n",
              "          '<a target=\"_blank\" href=https://colab.research.google.com/notebooks/data_table.ipynb>data table notebook</a>'\n",
              "          + ' to learn more about interactive tables.';\n",
              "        element.innerHTML = '';\n",
              "        dataTable['output_type'] = 'display_data';\n",
              "        await google.colab.output.renderOutput(dataTable, element);\n",
              "        const docLink = document.createElement('div');\n",
              "        docLink.innerHTML = docLinkHtml;\n",
              "        element.appendChild(docLink);\n",
              "      }\n",
              "    </script>\n",
              "  </div>\n",
              "\n",
              "\n",
              "<div id=\"df-fb1cc663-f20e-46d2-90fb-7349a11f7d34\">\n",
              "  <button class=\"colab-df-quickchart\" onclick=\"quickchart('df-fb1cc663-f20e-46d2-90fb-7349a11f7d34')\"\n",
              "            title=\"Suggest charts\"\n",
              "            style=\"display:none;\">\n",
              "\n",
              "<svg xmlns=\"http://www.w3.org/2000/svg\" height=\"24px\"viewBox=\"0 0 24 24\"\n",
              "     width=\"24px\">\n",
              "    <g>\n",
              "        <path d=\"M19 3H5c-1.1 0-2 .9-2 2v14c0 1.1.9 2 2 2h14c1.1 0 2-.9 2-2V5c0-1.1-.9-2-2-2zM9 17H7v-7h2v7zm4 0h-2V7h2v10zm4 0h-2v-4h2v4z\"/>\n",
              "    </g>\n",
              "</svg>\n",
              "  </button>\n",
              "\n",
              "<style>\n",
              "  .colab-df-quickchart {\n",
              "      --bg-color: #E8F0FE;\n",
              "      --fill-color: #1967D2;\n",
              "      --hover-bg-color: #E2EBFA;\n",
              "      --hover-fill-color: #174EA6;\n",
              "      --disabled-fill-color: #AAA;\n",
              "      --disabled-bg-color: #DDD;\n",
              "  }\n",
              "\n",
              "  [theme=dark] .colab-df-quickchart {\n",
              "      --bg-color: #3B4455;\n",
              "      --fill-color: #D2E3FC;\n",
              "      --hover-bg-color: #434B5C;\n",
              "      --hover-fill-color: #FFFFFF;\n",
              "      --disabled-bg-color: #3B4455;\n",
              "      --disabled-fill-color: #666;\n",
              "  }\n",
              "\n",
              "  .colab-df-quickchart {\n",
              "    background-color: var(--bg-color);\n",
              "    border: none;\n",
              "    border-radius: 50%;\n",
              "    cursor: pointer;\n",
              "    display: none;\n",
              "    fill: var(--fill-color);\n",
              "    height: 32px;\n",
              "    padding: 0;\n",
              "    width: 32px;\n",
              "  }\n",
              "\n",
              "  .colab-df-quickchart:hover {\n",
              "    background-color: var(--hover-bg-color);\n",
              "    box-shadow: 0 1px 2px rgba(60, 64, 67, 0.3), 0 1px 3px 1px rgba(60, 64, 67, 0.15);\n",
              "    fill: var(--button-hover-fill-color);\n",
              "  }\n",
              "\n",
              "  .colab-df-quickchart-complete:disabled,\n",
              "  .colab-df-quickchart-complete:disabled:hover {\n",
              "    background-color: var(--disabled-bg-color);\n",
              "    fill: var(--disabled-fill-color);\n",
              "    box-shadow: none;\n",
              "  }\n",
              "\n",
              "  .colab-df-spinner {\n",
              "    border: 2px solid var(--fill-color);\n",
              "    border-color: transparent;\n",
              "    border-bottom-color: var(--fill-color);\n",
              "    animation:\n",
              "      spin 1s steps(1) infinite;\n",
              "  }\n",
              "\n",
              "  @keyframes spin {\n",
              "    0% {\n",
              "      border-color: transparent;\n",
              "      border-bottom-color: var(--fill-color);\n",
              "      border-left-color: var(--fill-color);\n",
              "    }\n",
              "    20% {\n",
              "      border-color: transparent;\n",
              "      border-left-color: var(--fill-color);\n",
              "      border-top-color: var(--fill-color);\n",
              "    }\n",
              "    30% {\n",
              "      border-color: transparent;\n",
              "      border-left-color: var(--fill-color);\n",
              "      border-top-color: var(--fill-color);\n",
              "      border-right-color: var(--fill-color);\n",
              "    }\n",
              "    40% {\n",
              "      border-color: transparent;\n",
              "      border-right-color: var(--fill-color);\n",
              "      border-top-color: var(--fill-color);\n",
              "    }\n",
              "    60% {\n",
              "      border-color: transparent;\n",
              "      border-right-color: var(--fill-color);\n",
              "    }\n",
              "    80% {\n",
              "      border-color: transparent;\n",
              "      border-right-color: var(--fill-color);\n",
              "      border-bottom-color: var(--fill-color);\n",
              "    }\n",
              "    90% {\n",
              "      border-color: transparent;\n",
              "      border-bottom-color: var(--fill-color);\n",
              "    }\n",
              "  }\n",
              "</style>\n",
              "\n",
              "  <script>\n",
              "    async function quickchart(key) {\n",
              "      const quickchartButtonEl =\n",
              "        document.querySelector('#' + key + ' button');\n",
              "      quickchartButtonEl.disabled = true;  // To prevent multiple clicks.\n",
              "      quickchartButtonEl.classList.add('colab-df-spinner');\n",
              "      try {\n",
              "        const charts = await google.colab.kernel.invokeFunction(\n",
              "            'suggestCharts', [key], {});\n",
              "      } catch (error) {\n",
              "        console.error('Error during call to suggestCharts:', error);\n",
              "      }\n",
              "      quickchartButtonEl.classList.remove('colab-df-spinner');\n",
              "      quickchartButtonEl.classList.add('colab-df-quickchart-complete');\n",
              "    }\n",
              "    (() => {\n",
              "      let quickchartButtonEl =\n",
              "        document.querySelector('#df-fb1cc663-f20e-46d2-90fb-7349a11f7d34 button');\n",
              "      quickchartButtonEl.style.display =\n",
              "        google.colab.kernel.accessAllowed ? 'block' : 'none';\n",
              "    })();\n",
              "  </script>\n",
              "</div>\n",
              "\n",
              "    </div>\n",
              "  </div>\n"
            ]
          },
          "metadata": {},
          "execution_count": 4
        }
      ]
    },
    {
      "cell_type": "code",
      "source": [
        "car.info(verbose=True)"
      ],
      "metadata": {
        "colab": {
          "base_uri": "https://localhost:8080/"
        },
        "id": "q9GkpQ9dLACI",
        "outputId": "a8f89592-4cfd-4b11-a0ee-b1e823a02af0"
      },
      "execution_count": 5,
      "outputs": [
        {
          "output_type": "stream",
          "name": "stdout",
          "text": [
            "<class 'pandas.core.frame.DataFrame'>\n",
            "Int64Index: 1276 entries, 0 to 1275\n",
            "Data columns (total 140 columns):\n",
            " #    Column                                     Dtype  \n",
            "---   ------                                     -----  \n",
            " 0    Make                                       object \n",
            " 1    Model                                      object \n",
            " 2    Variant                                    object \n",
            " 3    Ex-Showroom_Price                          object \n",
            " 4    Displacement                               object \n",
            " 5    Cylinders                                  float64\n",
            " 6    Valves_Per_Cylinder                        float64\n",
            " 7    Drivetrain                                 object \n",
            " 8    Cylinder_Configuration                     object \n",
            " 9    Emission_Norm                              object \n",
            " 10   Engine_Location                            object \n",
            " 11   Fuel_System                                object \n",
            " 12   Fuel_Tank_Capacity                         object \n",
            " 13   Fuel_Type                                  object \n",
            " 14   Height                                     object \n",
            " 15   Length                                     object \n",
            " 16   Width                                      object \n",
            " 17   Body_Type                                  object \n",
            " 18   Doors                                      float64\n",
            " 19   City_Mileage                               object \n",
            " 20   Highway_Mileage                            object \n",
            " 21   ARAI_Certified_Mileage                     object \n",
            " 22   ARAI_Certified_Mileage_for_CNG             object \n",
            " 23   Kerb_Weight                                object \n",
            " 24   Gears                                      object \n",
            " 25   Ground_Clearance                           object \n",
            " 26   Front_Brakes                               object \n",
            " 27   Rear_Brakes                                object \n",
            " 28   Front_Suspension                           object \n",
            " 29   Rear_Suspension                            object \n",
            " 30   Front_Track                                object \n",
            " 31   Rear_Track                                 object \n",
            " 32   Front_Tyre_&_Rim                           object \n",
            " 33   Rear_Tyre_&_Rim                            object \n",
            " 34   Power_Steering                             object \n",
            " 35   Power_Windows                              object \n",
            " 36   Power_Seats                                object \n",
            " 37   Keyless_Entry                              object \n",
            " 38   Power                                      object \n",
            " 39   Torque                                     object \n",
            " 40   Odometer                                   object \n",
            " 41   Speedometer                                object \n",
            " 42   Tachometer                                 object \n",
            " 43   Tripmeter                                  object \n",
            " 44   Seating_Capacity                           float64\n",
            " 45   Seats_Material                             object \n",
            " 46   Type                                       object \n",
            " 47   Wheelbase                                  object \n",
            " 48   Wheels_Size                                object \n",
            " 49   Start_/_Stop_Button                        object \n",
            " 50   12v_Power_Outlet                           object \n",
            " 51   Audiosystem                                object \n",
            " 52   Aux-in_Compatibility                       object \n",
            " 53   Average_Fuel_Consumption                   object \n",
            " 54   Basic_Warranty                             object \n",
            " 55   Bluetooth                                  object \n",
            " 56   Boot-lid_Opener                            object \n",
            " 57   Boot_Space                                 object \n",
            " 58   CD_/_MP3_/_DVD_Player                      object \n",
            " 59   Central_Locking                            object \n",
            " 60   Child_Safety_Locks                         object \n",
            " 61   Clock                                      object \n",
            " 62   Cup_Holders                                object \n",
            " 63   Distance_to_Empty                          object \n",
            " 64   Door_Pockets                               object \n",
            " 65   Engine_Malfunction_Light                   object \n",
            " 66   Extended_Warranty                          object \n",
            " 67   FM_Radio                                   object \n",
            " 68   Fuel-lid_Opener                            object \n",
            " 69   Fuel_Gauge                                 object \n",
            " 70   Handbrake                                  object \n",
            " 71   Instrument_Console                         object \n",
            " 72   Low_Fuel_Warning                           object \n",
            " 73   Minimum_Turning_Radius                     object \n",
            " 74   Multifunction_Display                      object \n",
            " 75   Sun_Visor                                  object \n",
            " 76   Third_Row_AC_Vents                         object \n",
            " 77   Ventilation_System                         object \n",
            " 78   Auto-Dimming_Rear-View_Mirror              object \n",
            " 79   Hill_Assist                                object \n",
            " 80   Gear_Indicator                             object \n",
            " 81   3_Point_Seat-Belt_in_Middle_Rear_Seat      object \n",
            " 82   Ambient_Lightning                          object \n",
            " 83   Cargo/Boot_Lights                          object \n",
            " 84   Drive_Modes                                object \n",
            " 85   Engine_Immobilizer                         object \n",
            " 86   High_Speed_Alert_System                    object \n",
            " 87   Lane_Watch_Camera/_Side_Mirror_Camera      object \n",
            " 88   Passenger_Side_Seat-Belt_Reminder          object \n",
            " 89   Seat_Back_Pockets                          object \n",
            " 90   Voice_Recognition                          object \n",
            " 91   Walk_Away_Auto_Car_Lock                    object \n",
            " 92   ABS_(Anti-lock_Braking_System)             object \n",
            " 93   Headlight_Reminder                         object \n",
            " 94   Adjustable_Headrests                       object \n",
            " 95   Gross_Vehicle_Weight                       object \n",
            " 96   Airbags                                    object \n",
            " 97   Door_Ajar_Warning                          object \n",
            " 98   EBD_(Electronic_Brake-force_Distribution)  object \n",
            " 99   Fasten_Seat_Belt_Warning                   object \n",
            " 100  Gear_Shift_Reminder                        object \n",
            " 101  Number_of_Airbags                          float64\n",
            " 102  Compression_Ratio                          object \n",
            " 103  Adjustable_Steering_Column                 object \n",
            " 104  Other_Specs                                object \n",
            " 105  Other_specs                                object \n",
            " 106  Parking_Assistance                         object \n",
            " 107  Key_Off_Reminder                           object \n",
            " 108  USB_Compatibility                          object \n",
            " 109  Android_Auto                               object \n",
            " 110  Apple_CarPlay                              object \n",
            " 111  Cigarette_Lighter                          object \n",
            " 112  Infotainment_Screen                        object \n",
            " 113  Multifunction_Steering_Wheel               object \n",
            " 114  Average_Speed                              object \n",
            " 115  EBA_(Electronic_Brake_Assist)              object \n",
            " 116  Seat_Height_Adjustment                     object \n",
            " 117  Navigation_System                          object \n",
            " 118  Second_Row_AC_Vents                        object \n",
            " 119  Tyre_Pressure_Monitoring_System            object \n",
            " 120  Rear_Center_Armrest                        object \n",
            " 121  iPod_Compatibility                         object \n",
            " 122  ESP_(Electronic_Stability_Program)         object \n",
            " 123  Cooled_Glove_Box                           object \n",
            " 124  Recommended_Tyre_Pressure                  object \n",
            " 125  Heated_Seats                               object \n",
            " 126  Turbocharger                               object \n",
            " 127  ISOFIX_(Child-Seat_Mount)                  object \n",
            " 128  Rain_Sensing_Wipers                        object \n",
            " 129  Paddle_Shifters                            object \n",
            " 130  Leather_Wrapped_Steering                   object \n",
            " 131  Automatic_Headlamps                        object \n",
            " 132  Engine_Type                                object \n",
            " 133  ASR_/_Traction_Control                     object \n",
            " 134  Cruise_Control                             object \n",
            " 135  USB_Ports                                  float64\n",
            " 136  Heads-Up_Display                           object \n",
            " 137  Welcome_Lights                             object \n",
            " 138  Battery                                    object \n",
            " 139  Electric_Range                             object \n",
            "dtypes: float64(6), object(134)\n",
            "memory usage: 1.4+ MB\n"
          ]
        }
      ]
    },
    {
      "cell_type": "code",
      "source": [
        "car.columns"
      ],
      "metadata": {
        "colab": {
          "base_uri": "https://localhost:8080/"
        },
        "id": "KfkJu_kTLf4G",
        "outputId": "1b85e606-7cb0-402c-ebb8-270404fcde3d"
      },
      "execution_count": 6,
      "outputs": [
        {
          "output_type": "execute_result",
          "data": {
            "text/plain": [
              "Index(['Make', 'Model', 'Variant', 'Ex-Showroom_Price', 'Displacement',\n",
              "       'Cylinders', 'Valves_Per_Cylinder', 'Drivetrain',\n",
              "       'Cylinder_Configuration', 'Emission_Norm',\n",
              "       ...\n",
              "       'Leather_Wrapped_Steering', 'Automatic_Headlamps', 'Engine_Type',\n",
              "       'ASR_/_Traction_Control', 'Cruise_Control', 'USB_Ports',\n",
              "       'Heads-Up_Display', 'Welcome_Lights', 'Battery', 'Electric_Range'],\n",
              "      dtype='object', length=140)"
            ]
          },
          "metadata": {},
          "execution_count": 6
        }
      ]
    },
    {
      "cell_type": "code",
      "source": [
        "car = car[['Make', 'Model','Variant','Ex-Showroom_Price','Displacement','Seating_Capacity','Cylinders','Fuel_System','Body_Type',\n",
        "           'Fuel_Tank_Capacity','Fuel_Type','Height','Length','Width','City_Mileage','Parking_Assistance','Child_Safety_Locks',\n",
        "           'Seating_Capacity','Basic_Warranty','Number_of_Airbags','Navigation_System']]"
      ],
      "metadata": {
        "id": "YzJrU6JNLhZ1"
      },
      "execution_count": 7,
      "outputs": []
    },
    {
      "cell_type": "code",
      "source": [
        "car.isnull().sum()"
      ],
      "metadata": {
        "colab": {
          "base_uri": "https://localhost:8080/"
        },
        "id": "nwO6S-6xLnNM",
        "outputId": "0785f70d-1f98-46c3-e678-d3d8dd1e077c"
      },
      "execution_count": 8,
      "outputs": [
        {
          "output_type": "execute_result",
          "data": {
            "text/plain": [
              "Make                   75\n",
              "Model                   0\n",
              "Variant                 0\n",
              "Ex-Showroom_Price       0\n",
              "Displacement           12\n",
              "Seating_Capacity        6\n",
              "Cylinders              66\n",
              "Fuel_System             8\n",
              "Body_Type               6\n",
              "Fuel_Tank_Capacity     69\n",
              "Fuel_Type               0\n",
              "Height                  1\n",
              "Length                  0\n",
              "Width                  12\n",
              "City_Mileage          555\n",
              "Parking_Assistance    290\n",
              "Child_Safety_Locks     75\n",
              "Seating_Capacity        6\n",
              "Basic_Warranty        440\n",
              "Number_of_Airbags     135\n",
              "Navigation_System     593\n",
              "dtype: int64"
            ]
          },
          "metadata": {},
          "execution_count": 8
        }
      ]
    },
    {
      "cell_type": "markdown",
      "source": [
        "*Company Column*"
      ],
      "metadata": {
        "id": "7hDXBo3NL1JW"
      }
    },
    {
      "cell_type": "code",
      "source": [
        "car=car.rename(columns={'Make':'Company'})"
      ],
      "metadata": {
        "id": "y5UGvGhwLxEM"
      },
      "execution_count": 9,
      "outputs": []
    },
    {
      "cell_type": "code",
      "source": [
        "car['Company'] = car['Company'] +'-'+ car['Model']"
      ],
      "metadata": {
        "id": "ykxP2LfEL7vU"
      },
      "execution_count": 10,
      "outputs": []
    },
    {
      "cell_type": "code",
      "source": [
        "car.drop(columns=['Model'], axis=1,inplace=True)"
      ],
      "metadata": {
        "id": "cQIat38hMBPV"
      },
      "execution_count": 11,
      "outputs": []
    },
    {
      "cell_type": "code",
      "source": [
        "car.head()"
      ],
      "metadata": {
        "colab": {
          "base_uri": "https://localhost:8080/",
          "height": 504
        },
        "id": "io51VC1hMD5b",
        "outputId": "6333d2cf-e940-47ae-868b-a78a4c94b850"
      },
      "execution_count": 12,
      "outputs": [
        {
          "output_type": "execute_result",
          "data": {
            "text/plain": [
              "          Company  Variant Ex-Showroom_Price Displacement  Seating_Capacity  \\\n",
              "0  Tata-Nano Genx       Xt      Rs. 2,92,667       624 cc               4.0   \n",
              "1  Tata-Nano Genx       Xe      Rs. 2,36,447       624 cc               4.0   \n",
              "2  Tata-Nano Genx  Emax Xm      Rs. 2,96,661       624 cc               4.0   \n",
              "3  Tata-Nano Genx      Xta      Rs. 3,34,768       624 cc               4.0   \n",
              "4  Tata-Nano Genx       Xm      Rs. 2,72,223       624 cc               4.0   \n",
              "\n",
              "   Cylinders Fuel_System  Body_Type Fuel_Tank_Capacity Fuel_Type   Height  \\\n",
              "0        2.0   Injection  Hatchback          24 litres    Petrol  1652 mm   \n",
              "1        2.0   Injection  Hatchback          24 litres    Petrol  1652 mm   \n",
              "2        2.0   Injection  Hatchback          15 litres       CNG  1652 mm   \n",
              "3        2.0   Injection  Hatchback          24 litres    Petrol  1652 mm   \n",
              "4        2.0   Injection  Hatchback          24 litres    Petrol  1652 mm   \n",
              "\n",
              "    Length    Width    City_Mileage Parking_Assistance Child_Safety_Locks  \\\n",
              "0  3164 mm  1750 mm  ?23.6 km/litre                NaN                Yes   \n",
              "1  3164 mm  1750 mm  ?23.6 km/litre                NaN                Yes   \n",
              "2  3164 mm  1750 mm             NaN                NaN                Yes   \n",
              "3  3164 mm  1750 mm  ?23.6 km/litre                NaN                Yes   \n",
              "4  3164 mm  1750 mm  ?23.6 km/litre                NaN                Yes   \n",
              "\n",
              "   Seating_Capacity                                     Basic_Warranty  \\\n",
              "0               4.0  2 years /75000 Kms (years/distance whichever c...   \n",
              "1               4.0  2 years /75000 Kms (years/distance whichever c...   \n",
              "2               4.0  2 years /75000 Kms (years/distance whichever c...   \n",
              "3               4.0  2 years /75000 Kms (years/distance whichever c...   \n",
              "4               4.0  2 years /75000 Kms (years/distance whichever c...   \n",
              "\n",
              "   Number_of_Airbags Navigation_System  \n",
              "0                NaN               NaN  \n",
              "1                NaN               NaN  \n",
              "2                NaN               NaN  \n",
              "3                NaN               NaN  \n",
              "4                NaN               NaN  "
            ],
            "text/html": [
              "\n",
              "  <div id=\"df-54e150aa-d69f-40dd-809c-42df343b6d27\" class=\"colab-df-container\">\n",
              "    <div>\n",
              "<style scoped>\n",
              "    .dataframe tbody tr th:only-of-type {\n",
              "        vertical-align: middle;\n",
              "    }\n",
              "\n",
              "    .dataframe tbody tr th {\n",
              "        vertical-align: top;\n",
              "    }\n",
              "\n",
              "    .dataframe thead th {\n",
              "        text-align: right;\n",
              "    }\n",
              "</style>\n",
              "<table border=\"1\" class=\"dataframe\">\n",
              "  <thead>\n",
              "    <tr style=\"text-align: right;\">\n",
              "      <th></th>\n",
              "      <th>Company</th>\n",
              "      <th>Variant</th>\n",
              "      <th>Ex-Showroom_Price</th>\n",
              "      <th>Displacement</th>\n",
              "      <th>Seating_Capacity</th>\n",
              "      <th>Cylinders</th>\n",
              "      <th>Fuel_System</th>\n",
              "      <th>Body_Type</th>\n",
              "      <th>Fuel_Tank_Capacity</th>\n",
              "      <th>Fuel_Type</th>\n",
              "      <th>Height</th>\n",
              "      <th>Length</th>\n",
              "      <th>Width</th>\n",
              "      <th>City_Mileage</th>\n",
              "      <th>Parking_Assistance</th>\n",
              "      <th>Child_Safety_Locks</th>\n",
              "      <th>Seating_Capacity</th>\n",
              "      <th>Basic_Warranty</th>\n",
              "      <th>Number_of_Airbags</th>\n",
              "      <th>Navigation_System</th>\n",
              "    </tr>\n",
              "  </thead>\n",
              "  <tbody>\n",
              "    <tr>\n",
              "      <th>0</th>\n",
              "      <td>Tata-Nano Genx</td>\n",
              "      <td>Xt</td>\n",
              "      <td>Rs. 2,92,667</td>\n",
              "      <td>624 cc</td>\n",
              "      <td>4.0</td>\n",
              "      <td>2.0</td>\n",
              "      <td>Injection</td>\n",
              "      <td>Hatchback</td>\n",
              "      <td>24 litres</td>\n",
              "      <td>Petrol</td>\n",
              "      <td>1652 mm</td>\n",
              "      <td>3164 mm</td>\n",
              "      <td>1750 mm</td>\n",
              "      <td>?23.6 km/litre</td>\n",
              "      <td>NaN</td>\n",
              "      <td>Yes</td>\n",
              "      <td>4.0</td>\n",
              "      <td>2 years /75000 Kms (years/distance whichever c...</td>\n",
              "      <td>NaN</td>\n",
              "      <td>NaN</td>\n",
              "    </tr>\n",
              "    <tr>\n",
              "      <th>1</th>\n",
              "      <td>Tata-Nano Genx</td>\n",
              "      <td>Xe</td>\n",
              "      <td>Rs. 2,36,447</td>\n",
              "      <td>624 cc</td>\n",
              "      <td>4.0</td>\n",
              "      <td>2.0</td>\n",
              "      <td>Injection</td>\n",
              "      <td>Hatchback</td>\n",
              "      <td>24 litres</td>\n",
              "      <td>Petrol</td>\n",
              "      <td>1652 mm</td>\n",
              "      <td>3164 mm</td>\n",
              "      <td>1750 mm</td>\n",
              "      <td>?23.6 km/litre</td>\n",
              "      <td>NaN</td>\n",
              "      <td>Yes</td>\n",
              "      <td>4.0</td>\n",
              "      <td>2 years /75000 Kms (years/distance whichever c...</td>\n",
              "      <td>NaN</td>\n",
              "      <td>NaN</td>\n",
              "    </tr>\n",
              "    <tr>\n",
              "      <th>2</th>\n",
              "      <td>Tata-Nano Genx</td>\n",
              "      <td>Emax Xm</td>\n",
              "      <td>Rs. 2,96,661</td>\n",
              "      <td>624 cc</td>\n",
              "      <td>4.0</td>\n",
              "      <td>2.0</td>\n",
              "      <td>Injection</td>\n",
              "      <td>Hatchback</td>\n",
              "      <td>15 litres</td>\n",
              "      <td>CNG</td>\n",
              "      <td>1652 mm</td>\n",
              "      <td>3164 mm</td>\n",
              "      <td>1750 mm</td>\n",
              "      <td>NaN</td>\n",
              "      <td>NaN</td>\n",
              "      <td>Yes</td>\n",
              "      <td>4.0</td>\n",
              "      <td>2 years /75000 Kms (years/distance whichever c...</td>\n",
              "      <td>NaN</td>\n",
              "      <td>NaN</td>\n",
              "    </tr>\n",
              "    <tr>\n",
              "      <th>3</th>\n",
              "      <td>Tata-Nano Genx</td>\n",
              "      <td>Xta</td>\n",
              "      <td>Rs. 3,34,768</td>\n",
              "      <td>624 cc</td>\n",
              "      <td>4.0</td>\n",
              "      <td>2.0</td>\n",
              "      <td>Injection</td>\n",
              "      <td>Hatchback</td>\n",
              "      <td>24 litres</td>\n",
              "      <td>Petrol</td>\n",
              "      <td>1652 mm</td>\n",
              "      <td>3164 mm</td>\n",
              "      <td>1750 mm</td>\n",
              "      <td>?23.6 km/litre</td>\n",
              "      <td>NaN</td>\n",
              "      <td>Yes</td>\n",
              "      <td>4.0</td>\n",
              "      <td>2 years /75000 Kms (years/distance whichever c...</td>\n",
              "      <td>NaN</td>\n",
              "      <td>NaN</td>\n",
              "    </tr>\n",
              "    <tr>\n",
              "      <th>4</th>\n",
              "      <td>Tata-Nano Genx</td>\n",
              "      <td>Xm</td>\n",
              "      <td>Rs. 2,72,223</td>\n",
              "      <td>624 cc</td>\n",
              "      <td>4.0</td>\n",
              "      <td>2.0</td>\n",
              "      <td>Injection</td>\n",
              "      <td>Hatchback</td>\n",
              "      <td>24 litres</td>\n",
              "      <td>Petrol</td>\n",
              "      <td>1652 mm</td>\n",
              "      <td>3164 mm</td>\n",
              "      <td>1750 mm</td>\n",
              "      <td>?23.6 km/litre</td>\n",
              "      <td>NaN</td>\n",
              "      <td>Yes</td>\n",
              "      <td>4.0</td>\n",
              "      <td>2 years /75000 Kms (years/distance whichever c...</td>\n",
              "      <td>NaN</td>\n",
              "      <td>NaN</td>\n",
              "    </tr>\n",
              "  </tbody>\n",
              "</table>\n",
              "</div>\n",
              "    <div class=\"colab-df-buttons\">\n",
              "\n",
              "  <div class=\"colab-df-container\">\n",
              "    <button class=\"colab-df-convert\" onclick=\"convertToInteractive('df-54e150aa-d69f-40dd-809c-42df343b6d27')\"\n",
              "            title=\"Convert this dataframe to an interactive table.\"\n",
              "            style=\"display:none;\">\n",
              "\n",
              "  <svg xmlns=\"http://www.w3.org/2000/svg\" height=\"24px\" viewBox=\"0 -960 960 960\">\n",
              "    <path d=\"M120-120v-720h720v720H120Zm60-500h600v-160H180v160Zm220 220h160v-160H400v160Zm0 220h160v-160H400v160ZM180-400h160v-160H180v160Zm440 0h160v-160H620v160ZM180-180h160v-160H180v160Zm440 0h160v-160H620v160Z\"/>\n",
              "  </svg>\n",
              "    </button>\n",
              "\n",
              "  <style>\n",
              "    .colab-df-container {\n",
              "      display:flex;\n",
              "      gap: 12px;\n",
              "    }\n",
              "\n",
              "    .colab-df-convert {\n",
              "      background-color: #E8F0FE;\n",
              "      border: none;\n",
              "      border-radius: 50%;\n",
              "      cursor: pointer;\n",
              "      display: none;\n",
              "      fill: #1967D2;\n",
              "      height: 32px;\n",
              "      padding: 0 0 0 0;\n",
              "      width: 32px;\n",
              "    }\n",
              "\n",
              "    .colab-df-convert:hover {\n",
              "      background-color: #E2EBFA;\n",
              "      box-shadow: 0px 1px 2px rgba(60, 64, 67, 0.3), 0px 1px 3px 1px rgba(60, 64, 67, 0.15);\n",
              "      fill: #174EA6;\n",
              "    }\n",
              "\n",
              "    .colab-df-buttons div {\n",
              "      margin-bottom: 4px;\n",
              "    }\n",
              "\n",
              "    [theme=dark] .colab-df-convert {\n",
              "      background-color: #3B4455;\n",
              "      fill: #D2E3FC;\n",
              "    }\n",
              "\n",
              "    [theme=dark] .colab-df-convert:hover {\n",
              "      background-color: #434B5C;\n",
              "      box-shadow: 0px 1px 3px 1px rgba(0, 0, 0, 0.15);\n",
              "      filter: drop-shadow(0px 1px 2px rgba(0, 0, 0, 0.3));\n",
              "      fill: #FFFFFF;\n",
              "    }\n",
              "  </style>\n",
              "\n",
              "    <script>\n",
              "      const buttonEl =\n",
              "        document.querySelector('#df-54e150aa-d69f-40dd-809c-42df343b6d27 button.colab-df-convert');\n",
              "      buttonEl.style.display =\n",
              "        google.colab.kernel.accessAllowed ? 'block' : 'none';\n",
              "\n",
              "      async function convertToInteractive(key) {\n",
              "        const element = document.querySelector('#df-54e150aa-d69f-40dd-809c-42df343b6d27');\n",
              "        const dataTable =\n",
              "          await google.colab.kernel.invokeFunction('convertToInteractive',\n",
              "                                                    [key], {});\n",
              "        if (!dataTable) return;\n",
              "\n",
              "        const docLinkHtml = 'Like what you see? Visit the ' +\n",
              "          '<a target=\"_blank\" href=https://colab.research.google.com/notebooks/data_table.ipynb>data table notebook</a>'\n",
              "          + ' to learn more about interactive tables.';\n",
              "        element.innerHTML = '';\n",
              "        dataTable['output_type'] = 'display_data';\n",
              "        await google.colab.output.renderOutput(dataTable, element);\n",
              "        const docLink = document.createElement('div');\n",
              "        docLink.innerHTML = docLinkHtml;\n",
              "        element.appendChild(docLink);\n",
              "      }\n",
              "    </script>\n",
              "  </div>\n",
              "\n",
              "\n",
              "<div id=\"df-4d1651e9-664f-49fd-ba1f-22ddbe1190ba\">\n",
              "  <button class=\"colab-df-quickchart\" onclick=\"quickchart('df-4d1651e9-664f-49fd-ba1f-22ddbe1190ba')\"\n",
              "            title=\"Suggest charts\"\n",
              "            style=\"display:none;\">\n",
              "\n",
              "<svg xmlns=\"http://www.w3.org/2000/svg\" height=\"24px\"viewBox=\"0 0 24 24\"\n",
              "     width=\"24px\">\n",
              "    <g>\n",
              "        <path d=\"M19 3H5c-1.1 0-2 .9-2 2v14c0 1.1.9 2 2 2h14c1.1 0 2-.9 2-2V5c0-1.1-.9-2-2-2zM9 17H7v-7h2v7zm4 0h-2V7h2v10zm4 0h-2v-4h2v4z\"/>\n",
              "    </g>\n",
              "</svg>\n",
              "  </button>\n",
              "\n",
              "<style>\n",
              "  .colab-df-quickchart {\n",
              "      --bg-color: #E8F0FE;\n",
              "      --fill-color: #1967D2;\n",
              "      --hover-bg-color: #E2EBFA;\n",
              "      --hover-fill-color: #174EA6;\n",
              "      --disabled-fill-color: #AAA;\n",
              "      --disabled-bg-color: #DDD;\n",
              "  }\n",
              "\n",
              "  [theme=dark] .colab-df-quickchart {\n",
              "      --bg-color: #3B4455;\n",
              "      --fill-color: #D2E3FC;\n",
              "      --hover-bg-color: #434B5C;\n",
              "      --hover-fill-color: #FFFFFF;\n",
              "      --disabled-bg-color: #3B4455;\n",
              "      --disabled-fill-color: #666;\n",
              "  }\n",
              "\n",
              "  .colab-df-quickchart {\n",
              "    background-color: var(--bg-color);\n",
              "    border: none;\n",
              "    border-radius: 50%;\n",
              "    cursor: pointer;\n",
              "    display: none;\n",
              "    fill: var(--fill-color);\n",
              "    height: 32px;\n",
              "    padding: 0;\n",
              "    width: 32px;\n",
              "  }\n",
              "\n",
              "  .colab-df-quickchart:hover {\n",
              "    background-color: var(--hover-bg-color);\n",
              "    box-shadow: 0 1px 2px rgba(60, 64, 67, 0.3), 0 1px 3px 1px rgba(60, 64, 67, 0.15);\n",
              "    fill: var(--button-hover-fill-color);\n",
              "  }\n",
              "\n",
              "  .colab-df-quickchart-complete:disabled,\n",
              "  .colab-df-quickchart-complete:disabled:hover {\n",
              "    background-color: var(--disabled-bg-color);\n",
              "    fill: var(--disabled-fill-color);\n",
              "    box-shadow: none;\n",
              "  }\n",
              "\n",
              "  .colab-df-spinner {\n",
              "    border: 2px solid var(--fill-color);\n",
              "    border-color: transparent;\n",
              "    border-bottom-color: var(--fill-color);\n",
              "    animation:\n",
              "      spin 1s steps(1) infinite;\n",
              "  }\n",
              "\n",
              "  @keyframes spin {\n",
              "    0% {\n",
              "      border-color: transparent;\n",
              "      border-bottom-color: var(--fill-color);\n",
              "      border-left-color: var(--fill-color);\n",
              "    }\n",
              "    20% {\n",
              "      border-color: transparent;\n",
              "      border-left-color: var(--fill-color);\n",
              "      border-top-color: var(--fill-color);\n",
              "    }\n",
              "    30% {\n",
              "      border-color: transparent;\n",
              "      border-left-color: var(--fill-color);\n",
              "      border-top-color: var(--fill-color);\n",
              "      border-right-color: var(--fill-color);\n",
              "    }\n",
              "    40% {\n",
              "      border-color: transparent;\n",
              "      border-right-color: var(--fill-color);\n",
              "      border-top-color: var(--fill-color);\n",
              "    }\n",
              "    60% {\n",
              "      border-color: transparent;\n",
              "      border-right-color: var(--fill-color);\n",
              "    }\n",
              "    80% {\n",
              "      border-color: transparent;\n",
              "      border-right-color: var(--fill-color);\n",
              "      border-bottom-color: var(--fill-color);\n",
              "    }\n",
              "    90% {\n",
              "      border-color: transparent;\n",
              "      border-bottom-color: var(--fill-color);\n",
              "    }\n",
              "  }\n",
              "</style>\n",
              "\n",
              "  <script>\n",
              "    async function quickchart(key) {\n",
              "      const quickchartButtonEl =\n",
              "        document.querySelector('#' + key + ' button');\n",
              "      quickchartButtonEl.disabled = true;  // To prevent multiple clicks.\n",
              "      quickchartButtonEl.classList.add('colab-df-spinner');\n",
              "      try {\n",
              "        const charts = await google.colab.kernel.invokeFunction(\n",
              "            'suggestCharts', [key], {});\n",
              "      } catch (error) {\n",
              "        console.error('Error during call to suggestCharts:', error);\n",
              "      }\n",
              "      quickchartButtonEl.classList.remove('colab-df-spinner');\n",
              "      quickchartButtonEl.classList.add('colab-df-quickchart-complete');\n",
              "    }\n",
              "    (() => {\n",
              "      let quickchartButtonEl =\n",
              "        document.querySelector('#df-4d1651e9-664f-49fd-ba1f-22ddbe1190ba button');\n",
              "      quickchartButtonEl.style.display =\n",
              "        google.colab.kernel.accessAllowed ? 'block' : 'none';\n",
              "    })();\n",
              "  </script>\n",
              "</div>\n",
              "\n",
              "    </div>\n",
              "  </div>\n"
            ]
          },
          "metadata": {},
          "execution_count": 12
        }
      ]
    },
    {
      "cell_type": "code",
      "source": [
        "car['Company'].isnull().value_counts()"
      ],
      "metadata": {
        "colab": {
          "base_uri": "https://localhost:8080/"
        },
        "id": "3C4OyC9MMHRz",
        "outputId": "cd103a56-1793-4188-8754-a87d2217c160"
      },
      "execution_count": 13,
      "outputs": [
        {
          "output_type": "execute_result",
          "data": {
            "text/plain": [
              "False    1201\n",
              "True       75\n",
              "Name: Company, dtype: int64"
            ]
          },
          "metadata": {},
          "execution_count": 13
        }
      ]
    },
    {
      "cell_type": "code",
      "source": [
        "car=car.dropna(subset=['Company'])"
      ],
      "metadata": {
        "id": "-MOb3pIlMKNi"
      },
      "execution_count": 14,
      "outputs": []
    },
    {
      "cell_type": "code",
      "source": [
        "car['Company'].isnull().value_counts()"
      ],
      "metadata": {
        "colab": {
          "base_uri": "https://localhost:8080/"
        },
        "id": "v4WN-G_sMNCT",
        "outputId": "39400054-ad79-4afb-878f-a81528a8ddfd"
      },
      "execution_count": 15,
      "outputs": [
        {
          "output_type": "execute_result",
          "data": {
            "text/plain": [
              "False    1201\n",
              "Name: Company, dtype: int64"
            ]
          },
          "metadata": {},
          "execution_count": 15
        }
      ]
    },
    {
      "cell_type": "markdown",
      "source": [
        "*EX SHOWROOM PRICE COLUMN*"
      ],
      "metadata": {
        "id": "dQbh4L9hMRjS"
      }
    },
    {
      "cell_type": "code",
      "source": [
        "car['Ex-Showroom_Price'] = car['Ex-Showroom_Price'].str.replace('Rs.','').str.replace(',','')\n",
        "car.head()"
      ],
      "metadata": {
        "colab": {
          "base_uri": "https://localhost:8080/",
          "height": 538
        },
        "id": "Q8-kqhjzMacC",
        "outputId": "f3809b67-a5f3-48e8-e007-b8543642d8a9"
      },
      "execution_count": 16,
      "outputs": [
        {
          "output_type": "stream",
          "name": "stderr",
          "text": [
            "<ipython-input-16-0d4dd53559f4>:1: FutureWarning: The default value of regex will change from True to False in a future version.\n",
            "  car['Ex-Showroom_Price'] = car['Ex-Showroom_Price'].str.replace('Rs.','').str.replace(',','')\n"
          ]
        },
        {
          "output_type": "execute_result",
          "data": {
            "text/plain": [
              "          Company  Variant Ex-Showroom_Price Displacement  Seating_Capacity  \\\n",
              "0  Tata-Nano Genx       Xt            292667       624 cc               4.0   \n",
              "1  Tata-Nano Genx       Xe            236447       624 cc               4.0   \n",
              "2  Tata-Nano Genx  Emax Xm            296661       624 cc               4.0   \n",
              "3  Tata-Nano Genx      Xta            334768       624 cc               4.0   \n",
              "4  Tata-Nano Genx       Xm            272223       624 cc               4.0   \n",
              "\n",
              "   Cylinders Fuel_System  Body_Type Fuel_Tank_Capacity Fuel_Type   Height  \\\n",
              "0        2.0   Injection  Hatchback          24 litres    Petrol  1652 mm   \n",
              "1        2.0   Injection  Hatchback          24 litres    Petrol  1652 mm   \n",
              "2        2.0   Injection  Hatchback          15 litres       CNG  1652 mm   \n",
              "3        2.0   Injection  Hatchback          24 litres    Petrol  1652 mm   \n",
              "4        2.0   Injection  Hatchback          24 litres    Petrol  1652 mm   \n",
              "\n",
              "    Length    Width    City_Mileage Parking_Assistance Child_Safety_Locks  \\\n",
              "0  3164 mm  1750 mm  ?23.6 km/litre                NaN                Yes   \n",
              "1  3164 mm  1750 mm  ?23.6 km/litre                NaN                Yes   \n",
              "2  3164 mm  1750 mm             NaN                NaN                Yes   \n",
              "3  3164 mm  1750 mm  ?23.6 km/litre                NaN                Yes   \n",
              "4  3164 mm  1750 mm  ?23.6 km/litre                NaN                Yes   \n",
              "\n",
              "   Seating_Capacity                                     Basic_Warranty  \\\n",
              "0               4.0  2 years /75000 Kms (years/distance whichever c...   \n",
              "1               4.0  2 years /75000 Kms (years/distance whichever c...   \n",
              "2               4.0  2 years /75000 Kms (years/distance whichever c...   \n",
              "3               4.0  2 years /75000 Kms (years/distance whichever c...   \n",
              "4               4.0  2 years /75000 Kms (years/distance whichever c...   \n",
              "\n",
              "   Number_of_Airbags Navigation_System  \n",
              "0                NaN               NaN  \n",
              "1                NaN               NaN  \n",
              "2                NaN               NaN  \n",
              "3                NaN               NaN  \n",
              "4                NaN               NaN  "
            ],
            "text/html": [
              "\n",
              "  <div id=\"df-f3aa10ab-72d0-438b-92ae-ceee64562b81\" class=\"colab-df-container\">\n",
              "    <div>\n",
              "<style scoped>\n",
              "    .dataframe tbody tr th:only-of-type {\n",
              "        vertical-align: middle;\n",
              "    }\n",
              "\n",
              "    .dataframe tbody tr th {\n",
              "        vertical-align: top;\n",
              "    }\n",
              "\n",
              "    .dataframe thead th {\n",
              "        text-align: right;\n",
              "    }\n",
              "</style>\n",
              "<table border=\"1\" class=\"dataframe\">\n",
              "  <thead>\n",
              "    <tr style=\"text-align: right;\">\n",
              "      <th></th>\n",
              "      <th>Company</th>\n",
              "      <th>Variant</th>\n",
              "      <th>Ex-Showroom_Price</th>\n",
              "      <th>Displacement</th>\n",
              "      <th>Seating_Capacity</th>\n",
              "      <th>Cylinders</th>\n",
              "      <th>Fuel_System</th>\n",
              "      <th>Body_Type</th>\n",
              "      <th>Fuel_Tank_Capacity</th>\n",
              "      <th>Fuel_Type</th>\n",
              "      <th>Height</th>\n",
              "      <th>Length</th>\n",
              "      <th>Width</th>\n",
              "      <th>City_Mileage</th>\n",
              "      <th>Parking_Assistance</th>\n",
              "      <th>Child_Safety_Locks</th>\n",
              "      <th>Seating_Capacity</th>\n",
              "      <th>Basic_Warranty</th>\n",
              "      <th>Number_of_Airbags</th>\n",
              "      <th>Navigation_System</th>\n",
              "    </tr>\n",
              "  </thead>\n",
              "  <tbody>\n",
              "    <tr>\n",
              "      <th>0</th>\n",
              "      <td>Tata-Nano Genx</td>\n",
              "      <td>Xt</td>\n",
              "      <td>292667</td>\n",
              "      <td>624 cc</td>\n",
              "      <td>4.0</td>\n",
              "      <td>2.0</td>\n",
              "      <td>Injection</td>\n",
              "      <td>Hatchback</td>\n",
              "      <td>24 litres</td>\n",
              "      <td>Petrol</td>\n",
              "      <td>1652 mm</td>\n",
              "      <td>3164 mm</td>\n",
              "      <td>1750 mm</td>\n",
              "      <td>?23.6 km/litre</td>\n",
              "      <td>NaN</td>\n",
              "      <td>Yes</td>\n",
              "      <td>4.0</td>\n",
              "      <td>2 years /75000 Kms (years/distance whichever c...</td>\n",
              "      <td>NaN</td>\n",
              "      <td>NaN</td>\n",
              "    </tr>\n",
              "    <tr>\n",
              "      <th>1</th>\n",
              "      <td>Tata-Nano Genx</td>\n",
              "      <td>Xe</td>\n",
              "      <td>236447</td>\n",
              "      <td>624 cc</td>\n",
              "      <td>4.0</td>\n",
              "      <td>2.0</td>\n",
              "      <td>Injection</td>\n",
              "      <td>Hatchback</td>\n",
              "      <td>24 litres</td>\n",
              "      <td>Petrol</td>\n",
              "      <td>1652 mm</td>\n",
              "      <td>3164 mm</td>\n",
              "      <td>1750 mm</td>\n",
              "      <td>?23.6 km/litre</td>\n",
              "      <td>NaN</td>\n",
              "      <td>Yes</td>\n",
              "      <td>4.0</td>\n",
              "      <td>2 years /75000 Kms (years/distance whichever c...</td>\n",
              "      <td>NaN</td>\n",
              "      <td>NaN</td>\n",
              "    </tr>\n",
              "    <tr>\n",
              "      <th>2</th>\n",
              "      <td>Tata-Nano Genx</td>\n",
              "      <td>Emax Xm</td>\n",
              "      <td>296661</td>\n",
              "      <td>624 cc</td>\n",
              "      <td>4.0</td>\n",
              "      <td>2.0</td>\n",
              "      <td>Injection</td>\n",
              "      <td>Hatchback</td>\n",
              "      <td>15 litres</td>\n",
              "      <td>CNG</td>\n",
              "      <td>1652 mm</td>\n",
              "      <td>3164 mm</td>\n",
              "      <td>1750 mm</td>\n",
              "      <td>NaN</td>\n",
              "      <td>NaN</td>\n",
              "      <td>Yes</td>\n",
              "      <td>4.0</td>\n",
              "      <td>2 years /75000 Kms (years/distance whichever c...</td>\n",
              "      <td>NaN</td>\n",
              "      <td>NaN</td>\n",
              "    </tr>\n",
              "    <tr>\n",
              "      <th>3</th>\n",
              "      <td>Tata-Nano Genx</td>\n",
              "      <td>Xta</td>\n",
              "      <td>334768</td>\n",
              "      <td>624 cc</td>\n",
              "      <td>4.0</td>\n",
              "      <td>2.0</td>\n",
              "      <td>Injection</td>\n",
              "      <td>Hatchback</td>\n",
              "      <td>24 litres</td>\n",
              "      <td>Petrol</td>\n",
              "      <td>1652 mm</td>\n",
              "      <td>3164 mm</td>\n",
              "      <td>1750 mm</td>\n",
              "      <td>?23.6 km/litre</td>\n",
              "      <td>NaN</td>\n",
              "      <td>Yes</td>\n",
              "      <td>4.0</td>\n",
              "      <td>2 years /75000 Kms (years/distance whichever c...</td>\n",
              "      <td>NaN</td>\n",
              "      <td>NaN</td>\n",
              "    </tr>\n",
              "    <tr>\n",
              "      <th>4</th>\n",
              "      <td>Tata-Nano Genx</td>\n",
              "      <td>Xm</td>\n",
              "      <td>272223</td>\n",
              "      <td>624 cc</td>\n",
              "      <td>4.0</td>\n",
              "      <td>2.0</td>\n",
              "      <td>Injection</td>\n",
              "      <td>Hatchback</td>\n",
              "      <td>24 litres</td>\n",
              "      <td>Petrol</td>\n",
              "      <td>1652 mm</td>\n",
              "      <td>3164 mm</td>\n",
              "      <td>1750 mm</td>\n",
              "      <td>?23.6 km/litre</td>\n",
              "      <td>NaN</td>\n",
              "      <td>Yes</td>\n",
              "      <td>4.0</td>\n",
              "      <td>2 years /75000 Kms (years/distance whichever c...</td>\n",
              "      <td>NaN</td>\n",
              "      <td>NaN</td>\n",
              "    </tr>\n",
              "  </tbody>\n",
              "</table>\n",
              "</div>\n",
              "    <div class=\"colab-df-buttons\">\n",
              "\n",
              "  <div class=\"colab-df-container\">\n",
              "    <button class=\"colab-df-convert\" onclick=\"convertToInteractive('df-f3aa10ab-72d0-438b-92ae-ceee64562b81')\"\n",
              "            title=\"Convert this dataframe to an interactive table.\"\n",
              "            style=\"display:none;\">\n",
              "\n",
              "  <svg xmlns=\"http://www.w3.org/2000/svg\" height=\"24px\" viewBox=\"0 -960 960 960\">\n",
              "    <path d=\"M120-120v-720h720v720H120Zm60-500h600v-160H180v160Zm220 220h160v-160H400v160Zm0 220h160v-160H400v160ZM180-400h160v-160H180v160Zm440 0h160v-160H620v160ZM180-180h160v-160H180v160Zm440 0h160v-160H620v160Z\"/>\n",
              "  </svg>\n",
              "    </button>\n",
              "\n",
              "  <style>\n",
              "    .colab-df-container {\n",
              "      display:flex;\n",
              "      gap: 12px;\n",
              "    }\n",
              "\n",
              "    .colab-df-convert {\n",
              "      background-color: #E8F0FE;\n",
              "      border: none;\n",
              "      border-radius: 50%;\n",
              "      cursor: pointer;\n",
              "      display: none;\n",
              "      fill: #1967D2;\n",
              "      height: 32px;\n",
              "      padding: 0 0 0 0;\n",
              "      width: 32px;\n",
              "    }\n",
              "\n",
              "    .colab-df-convert:hover {\n",
              "      background-color: #E2EBFA;\n",
              "      box-shadow: 0px 1px 2px rgba(60, 64, 67, 0.3), 0px 1px 3px 1px rgba(60, 64, 67, 0.15);\n",
              "      fill: #174EA6;\n",
              "    }\n",
              "\n",
              "    .colab-df-buttons div {\n",
              "      margin-bottom: 4px;\n",
              "    }\n",
              "\n",
              "    [theme=dark] .colab-df-convert {\n",
              "      background-color: #3B4455;\n",
              "      fill: #D2E3FC;\n",
              "    }\n",
              "\n",
              "    [theme=dark] .colab-df-convert:hover {\n",
              "      background-color: #434B5C;\n",
              "      box-shadow: 0px 1px 3px 1px rgba(0, 0, 0, 0.15);\n",
              "      filter: drop-shadow(0px 1px 2px rgba(0, 0, 0, 0.3));\n",
              "      fill: #FFFFFF;\n",
              "    }\n",
              "  </style>\n",
              "\n",
              "    <script>\n",
              "      const buttonEl =\n",
              "        document.querySelector('#df-f3aa10ab-72d0-438b-92ae-ceee64562b81 button.colab-df-convert');\n",
              "      buttonEl.style.display =\n",
              "        google.colab.kernel.accessAllowed ? 'block' : 'none';\n",
              "\n",
              "      async function convertToInteractive(key) {\n",
              "        const element = document.querySelector('#df-f3aa10ab-72d0-438b-92ae-ceee64562b81');\n",
              "        const dataTable =\n",
              "          await google.colab.kernel.invokeFunction('convertToInteractive',\n",
              "                                                    [key], {});\n",
              "        if (!dataTable) return;\n",
              "\n",
              "        const docLinkHtml = 'Like what you see? Visit the ' +\n",
              "          '<a target=\"_blank\" href=https://colab.research.google.com/notebooks/data_table.ipynb>data table notebook</a>'\n",
              "          + ' to learn more about interactive tables.';\n",
              "        element.innerHTML = '';\n",
              "        dataTable['output_type'] = 'display_data';\n",
              "        await google.colab.output.renderOutput(dataTable, element);\n",
              "        const docLink = document.createElement('div');\n",
              "        docLink.innerHTML = docLinkHtml;\n",
              "        element.appendChild(docLink);\n",
              "      }\n",
              "    </script>\n",
              "  </div>\n",
              "\n",
              "\n",
              "<div id=\"df-469043a7-f01e-4ccf-ab2b-10fe769ba8dc\">\n",
              "  <button class=\"colab-df-quickchart\" onclick=\"quickchart('df-469043a7-f01e-4ccf-ab2b-10fe769ba8dc')\"\n",
              "            title=\"Suggest charts\"\n",
              "            style=\"display:none;\">\n",
              "\n",
              "<svg xmlns=\"http://www.w3.org/2000/svg\" height=\"24px\"viewBox=\"0 0 24 24\"\n",
              "     width=\"24px\">\n",
              "    <g>\n",
              "        <path d=\"M19 3H5c-1.1 0-2 .9-2 2v14c0 1.1.9 2 2 2h14c1.1 0 2-.9 2-2V5c0-1.1-.9-2-2-2zM9 17H7v-7h2v7zm4 0h-2V7h2v10zm4 0h-2v-4h2v4z\"/>\n",
              "    </g>\n",
              "</svg>\n",
              "  </button>\n",
              "\n",
              "<style>\n",
              "  .colab-df-quickchart {\n",
              "      --bg-color: #E8F0FE;\n",
              "      --fill-color: #1967D2;\n",
              "      --hover-bg-color: #E2EBFA;\n",
              "      --hover-fill-color: #174EA6;\n",
              "      --disabled-fill-color: #AAA;\n",
              "      --disabled-bg-color: #DDD;\n",
              "  }\n",
              "\n",
              "  [theme=dark] .colab-df-quickchart {\n",
              "      --bg-color: #3B4455;\n",
              "      --fill-color: #D2E3FC;\n",
              "      --hover-bg-color: #434B5C;\n",
              "      --hover-fill-color: #FFFFFF;\n",
              "      --disabled-bg-color: #3B4455;\n",
              "      --disabled-fill-color: #666;\n",
              "  }\n",
              "\n",
              "  .colab-df-quickchart {\n",
              "    background-color: var(--bg-color);\n",
              "    border: none;\n",
              "    border-radius: 50%;\n",
              "    cursor: pointer;\n",
              "    display: none;\n",
              "    fill: var(--fill-color);\n",
              "    height: 32px;\n",
              "    padding: 0;\n",
              "    width: 32px;\n",
              "  }\n",
              "\n",
              "  .colab-df-quickchart:hover {\n",
              "    background-color: var(--hover-bg-color);\n",
              "    box-shadow: 0 1px 2px rgba(60, 64, 67, 0.3), 0 1px 3px 1px rgba(60, 64, 67, 0.15);\n",
              "    fill: var(--button-hover-fill-color);\n",
              "  }\n",
              "\n",
              "  .colab-df-quickchart-complete:disabled,\n",
              "  .colab-df-quickchart-complete:disabled:hover {\n",
              "    background-color: var(--disabled-bg-color);\n",
              "    fill: var(--disabled-fill-color);\n",
              "    box-shadow: none;\n",
              "  }\n",
              "\n",
              "  .colab-df-spinner {\n",
              "    border: 2px solid var(--fill-color);\n",
              "    border-color: transparent;\n",
              "    border-bottom-color: var(--fill-color);\n",
              "    animation:\n",
              "      spin 1s steps(1) infinite;\n",
              "  }\n",
              "\n",
              "  @keyframes spin {\n",
              "    0% {\n",
              "      border-color: transparent;\n",
              "      border-bottom-color: var(--fill-color);\n",
              "      border-left-color: var(--fill-color);\n",
              "    }\n",
              "    20% {\n",
              "      border-color: transparent;\n",
              "      border-left-color: var(--fill-color);\n",
              "      border-top-color: var(--fill-color);\n",
              "    }\n",
              "    30% {\n",
              "      border-color: transparent;\n",
              "      border-left-color: var(--fill-color);\n",
              "      border-top-color: var(--fill-color);\n",
              "      border-right-color: var(--fill-color);\n",
              "    }\n",
              "    40% {\n",
              "      border-color: transparent;\n",
              "      border-right-color: var(--fill-color);\n",
              "      border-top-color: var(--fill-color);\n",
              "    }\n",
              "    60% {\n",
              "      border-color: transparent;\n",
              "      border-right-color: var(--fill-color);\n",
              "    }\n",
              "    80% {\n",
              "      border-color: transparent;\n",
              "      border-right-color: var(--fill-color);\n",
              "      border-bottom-color: var(--fill-color);\n",
              "    }\n",
              "    90% {\n",
              "      border-color: transparent;\n",
              "      border-bottom-color: var(--fill-color);\n",
              "    }\n",
              "  }\n",
              "</style>\n",
              "\n",
              "  <script>\n",
              "    async function quickchart(key) {\n",
              "      const quickchartButtonEl =\n",
              "        document.querySelector('#' + key + ' button');\n",
              "      quickchartButtonEl.disabled = true;  // To prevent multiple clicks.\n",
              "      quickchartButtonEl.classList.add('colab-df-spinner');\n",
              "      try {\n",
              "        const charts = await google.colab.kernel.invokeFunction(\n",
              "            'suggestCharts', [key], {});\n",
              "      } catch (error) {\n",
              "        console.error('Error during call to suggestCharts:', error);\n",
              "      }\n",
              "      quickchartButtonEl.classList.remove('colab-df-spinner');\n",
              "      quickchartButtonEl.classList.add('colab-df-quickchart-complete');\n",
              "    }\n",
              "    (() => {\n",
              "      let quickchartButtonEl =\n",
              "        document.querySelector('#df-469043a7-f01e-4ccf-ab2b-10fe769ba8dc button');\n",
              "      quickchartButtonEl.style.display =\n",
              "        google.colab.kernel.accessAllowed ? 'block' : 'none';\n",
              "    })();\n",
              "  </script>\n",
              "</div>\n",
              "\n",
              "    </div>\n",
              "  </div>\n"
            ]
          },
          "metadata": {},
          "execution_count": 16
        }
      ]
    },
    {
      "cell_type": "code",
      "source": [
        "car['Ex-Showroom_Price'].isnull().sum()"
      ],
      "metadata": {
        "colab": {
          "base_uri": "https://localhost:8080/"
        },
        "id": "_HycmoApMiOw",
        "outputId": "f42b7ad3-f50f-4915-a7cc-7f602f265a9a"
      },
      "execution_count": 17,
      "outputs": [
        {
          "output_type": "execute_result",
          "data": {
            "text/plain": [
              "0"
            ]
          },
          "metadata": {},
          "execution_count": 17
        }
      ]
    },
    {
      "cell_type": "code",
      "source": [
        "car['Ex-Showroom_Price'] = car['Ex-Showroom_Price'].astype(int)"
      ],
      "metadata": {
        "id": "FtvBft3jMlZa"
      },
      "execution_count": 18,
      "outputs": []
    },
    {
      "cell_type": "markdown",
      "source": [
        "*DISPLACEMENT COLUMN*"
      ],
      "metadata": {
        "id": "1rtJXrVMMqdt"
      }
    },
    {
      "cell_type": "code",
      "source": [
        "car['Displacement'] = car['Displacement'].str.replace('cc','')\n",
        "car['Displacement']"
      ],
      "metadata": {
        "colab": {
          "base_uri": "https://localhost:8080/"
        },
        "id": "IVpOqS-zMp5N",
        "outputId": "c81cd28f-1028-4f56-fab7-10aedab9eae5"
      },
      "execution_count": 19,
      "outputs": [
        {
          "output_type": "execute_result",
          "data": {
            "text/plain": [
              "0        624 \n",
              "1        624 \n",
              "2        624 \n",
              "3        624 \n",
              "4        624 \n",
              "        ...  \n",
              "1271    1498 \n",
              "1272    1498 \n",
              "1273    1497 \n",
              "1274    1497 \n",
              "1275    3200 \n",
              "Name: Displacement, Length: 1201, dtype: object"
            ]
          },
          "metadata": {},
          "execution_count": 19
        }
      ]
    },
    {
      "cell_type": "code",
      "source": [
        "car.Displacement.isnull().sum()"
      ],
      "metadata": {
        "colab": {
          "base_uri": "https://localhost:8080/"
        },
        "id": "SOjURzioM0Wk",
        "outputId": "db5ab86e-7135-4e30-a20a-88e144cee9c6"
      },
      "execution_count": 20,
      "outputs": [
        {
          "output_type": "execute_result",
          "data": {
            "text/plain": [
              "11"
            ]
          },
          "metadata": {},
          "execution_count": 20
        }
      ]
    },
    {
      "cell_type": "code",
      "source": [
        "car=car.dropna(subset=['Displacement'])"
      ],
      "metadata": {
        "id": "PSBPxl-PM3g7"
      },
      "execution_count": 21,
      "outputs": []
    },
    {
      "cell_type": "code",
      "source": [
        "car['Displacement'] = car['Displacement'].astype(int)"
      ],
      "metadata": {
        "id": "gU1mafpTM7Cj"
      },
      "execution_count": 23,
      "outputs": []
    },
    {
      "cell_type": "markdown",
      "source": [
        "*CYLINDER COLUMN*"
      ],
      "metadata": {
        "id": "lTpGJVBeND4r"
      }
    },
    {
      "cell_type": "code",
      "source": [
        "car.Cylinders.isnull().sum()"
      ],
      "metadata": {
        "colab": {
          "base_uri": "https://localhost:8080/"
        },
        "id": "FWlWVztgNHS1",
        "outputId": "0f737cf3-dc20-481e-d5c5-495e86ff0f41"
      },
      "execution_count": 24,
      "outputs": [
        {
          "output_type": "execute_result",
          "data": {
            "text/plain": [
              "55"
            ]
          },
          "metadata": {},
          "execution_count": 24
        }
      ]
    },
    {
      "cell_type": "code",
      "source": [
        "car['Cylinders']=car['Cylinders'].replace(np.nan,car.Cylinders.median())"
      ],
      "metadata": {
        "id": "y_81s4mdNNEa"
      },
      "execution_count": 25,
      "outputs": []
    },
    {
      "cell_type": "code",
      "source": [
        "car['Cylinders'] = car['Cylinders'].astype(int)"
      ],
      "metadata": {
        "id": "v6RXt3FoNQVi"
      },
      "execution_count": 26,
      "outputs": []
    },
    {
      "cell_type": "code",
      "source": [
        "car.Cylinders.info"
      ],
      "metadata": {
        "colab": {
          "base_uri": "https://localhost:8080/"
        },
        "id": "0rwJmqkxNS_R",
        "outputId": "db17dac5-94ab-4f38-a5af-68a01df00c04"
      },
      "execution_count": 27,
      "outputs": [
        {
          "output_type": "execute_result",
          "data": {
            "text/plain": [
              "<bound method Series.info of 0       2\n",
              "1       2\n",
              "2       2\n",
              "3       2\n",
              "4       2\n",
              "       ..\n",
              "1271    4\n",
              "1272    4\n",
              "1273    4\n",
              "1274    4\n",
              "1275    4\n",
              "Name: Cylinders, Length: 1190, dtype: int64>"
            ]
          },
          "metadata": {},
          "execution_count": 27
        }
      ]
    },
    {
      "cell_type": "markdown",
      "source": [
        "*FUEL COLUMN *"
      ],
      "metadata": {
        "id": "uC8chvQHNWHM"
      }
    },
    {
      "cell_type": "code",
      "source": [
        "car.Fuel_System.info"
      ],
      "metadata": {
        "colab": {
          "base_uri": "https://localhost:8080/"
        },
        "id": "bM5-nVvRNY7K",
        "outputId": "76fa4b32-575d-43e6-86e2-56c8081b71b6"
      },
      "execution_count": 28,
      "outputs": [
        {
          "output_type": "execute_result",
          "data": {
            "text/plain": [
              "<bound method Series.info of 0       Injection\n",
              "1       Injection\n",
              "2       Injection\n",
              "3       Injection\n",
              "4       Injection\n",
              "          ...    \n",
              "1271    Injection\n",
              "1272    Injection\n",
              "1273    Injection\n",
              "1274    Injection\n",
              "1275    Injection\n",
              "Name: Fuel_System, Length: 1190, dtype: object>"
            ]
          },
          "metadata": {},
          "execution_count": 28
        }
      ]
    },
    {
      "cell_type": "code",
      "source": [
        "car.Fuel_System.isnull().sum()"
      ],
      "metadata": {
        "colab": {
          "base_uri": "https://localhost:8080/"
        },
        "id": "_zj7vyQfNbv6",
        "outputId": "572a9037-0cff-4101-d893-abdb56bb4289"
      },
      "execution_count": 29,
      "outputs": [
        {
          "output_type": "execute_result",
          "data": {
            "text/plain": [
              "7"
            ]
          },
          "metadata": {},
          "execution_count": 29
        }
      ]
    },
    {
      "cell_type": "code",
      "source": [
        "car=car.dropna(subset=['Fuel_System'])"
      ],
      "metadata": {
        "id": "Yn2j-0k9Nf8z"
      },
      "execution_count": 30,
      "outputs": []
    },
    {
      "cell_type": "code",
      "source": [
        "car.Fuel_Tank_Capacity.isnull().sum()"
      ],
      "metadata": {
        "colab": {
          "base_uri": "https://localhost:8080/"
        },
        "id": "j3ILvp42Niis",
        "outputId": "f409bbdc-7350-4933-b467-c783eb308981"
      },
      "execution_count": 31,
      "outputs": [
        {
          "output_type": "execute_result",
          "data": {
            "text/plain": [
              "53"
            ]
          },
          "metadata": {},
          "execution_count": 31
        }
      ]
    },
    {
      "cell_type": "code",
      "source": [
        "car['Fuel_Tank_Capacity']=car['Fuel_Tank_Capacity'].replace(np.nan,car.Cylinders.median())"
      ],
      "metadata": {
        "id": "HcDaYiYyNleC"
      },
      "execution_count": 32,
      "outputs": []
    },
    {
      "cell_type": "code",
      "source": [
        "car['Fuel_Tank_Capacity']=car.Fuel_Tank_Capacity.str.replace('litres','')\n",
        "car['Fuel_Tank_Capacity'].astype(float)"
      ],
      "metadata": {
        "colab": {
          "base_uri": "https://localhost:8080/"
        },
        "id": "m1e6ZHYmNoUF",
        "outputId": "2a7cd600-f99e-434f-d4ab-d92941d99979"
      },
      "execution_count": 33,
      "outputs": [
        {
          "output_type": "execute_result",
          "data": {
            "text/plain": [
              "0       24.0\n",
              "1       24.0\n",
              "2       15.0\n",
              "3       24.0\n",
              "4       24.0\n",
              "        ... \n",
              "1271    40.0\n",
              "1272    40.0\n",
              "1273    40.0\n",
              "1274    40.0\n",
              "1275    88.0\n",
              "Name: Fuel_Tank_Capacity, Length: 1183, dtype: float64"
            ]
          },
          "metadata": {},
          "execution_count": 33
        }
      ]
    },
    {
      "cell_type": "code",
      "source": [
        "car.Fuel_Type.info"
      ],
      "metadata": {
        "colab": {
          "base_uri": "https://localhost:8080/"
        },
        "id": "hxKMWRNeNrwK",
        "outputId": "848ad42d-e401-4fa6-d223-5301186909ab"
      },
      "execution_count": 34,
      "outputs": [
        {
          "output_type": "execute_result",
          "data": {
            "text/plain": [
              "<bound method Series.info of 0       Petrol\n",
              "1       Petrol\n",
              "2          CNG\n",
              "3       Petrol\n",
              "4       Petrol\n",
              "         ...  \n",
              "1271    Diesel\n",
              "1272    Diesel\n",
              "1273    Petrol\n",
              "1274    Petrol\n",
              "1275    Diesel\n",
              "Name: Fuel_Type, Length: 1183, dtype: object>"
            ]
          },
          "metadata": {},
          "execution_count": 34
        }
      ]
    },
    {
      "cell_type": "code",
      "source": [
        "car.Fuel_Type.isnull().sum()"
      ],
      "metadata": {
        "colab": {
          "base_uri": "https://localhost:8080/"
        },
        "id": "yQJZB4Z_Nu0y",
        "outputId": "83f254a1-0d0e-47c9-dff2-b16b8fd25933"
      },
      "execution_count": 35,
      "outputs": [
        {
          "output_type": "execute_result",
          "data": {
            "text/plain": [
              "0"
            ]
          },
          "metadata": {},
          "execution_count": 35
        }
      ]
    },
    {
      "cell_type": "markdown",
      "source": [
        "*MILEAGE COLUMN*"
      ],
      "metadata": {
        "id": "d1_N1JxCNwOT"
      }
    },
    {
      "cell_type": "code",
      "source": [
        "car.City_Mileage.info"
      ],
      "metadata": {
        "colab": {
          "base_uri": "https://localhost:8080/"
        },
        "id": "kwsmlJOuN1V6",
        "outputId": "465fd791-c89e-40a7-f0ec-c3d4baf4751b"
      },
      "execution_count": 36,
      "outputs": [
        {
          "output_type": "execute_result",
          "data": {
            "text/plain": [
              "<bound method Series.info of 0       ?23.6 km/litre\n",
              "1       ?23.6 km/litre\n",
              "2                  NaN\n",
              "3       ?23.6 km/litre\n",
              "4       ?23.6 km/litre\n",
              "             ...      \n",
              "1271     22.6 km/litre\n",
              "1272     22.6 km/litre\n",
              "1273       18 km/litre\n",
              "1274     14.3 km/litre\n",
              "1275     8.25 km/litre\n",
              "Name: City_Mileage, Length: 1183, dtype: object>"
            ]
          },
          "metadata": {},
          "execution_count": 36
        }
      ]
    },
    {
      "cell_type": "code",
      "source": [
        "car['City_Mileage'] = car['City_Mileage'].str.replace('?',' ')"
      ],
      "metadata": {
        "colab": {
          "base_uri": "https://localhost:8080/"
        },
        "id": "yeiu62gmOAyE",
        "outputId": "4dd7c200-4d2d-4e1e-c22a-a59dd9efe545"
      },
      "execution_count": 37,
      "outputs": [
        {
          "output_type": "stream",
          "name": "stderr",
          "text": [
            "<ipython-input-37-262db6c0563b>:1: FutureWarning: The default value of regex will change from True to False in a future version. In addition, single character regular expressions will *not* be treated as literal strings when regex=True.\n",
            "  car['City_Mileage'] = car['City_Mileage'].str.replace('?',' ')\n"
          ]
        }
      ]
    },
    {
      "cell_type": "code",
      "source": [
        "car['City_Mileage']=car['City_Mileage'].str.strip('km/litre')"
      ],
      "metadata": {
        "id": "R06M4W7vODzF"
      },
      "execution_count": 38,
      "outputs": []
    },
    {
      "cell_type": "code",
      "source": [
        "car['City_Mileage']=car['City_Mileage'].str.replace(',','.')"
      ],
      "metadata": {
        "id": "QVfurfKPOGoz"
      },
      "execution_count": 39,
      "outputs": []
    },
    {
      "cell_type": "code",
      "source": [
        "car['City_Mileage']=car['City_Mileage'].str.replace('12.5-12.7','12.5')"
      ],
      "metadata": {
        "colab": {
          "base_uri": "https://localhost:8080/"
        },
        "id": "n4U4izF8OJy8",
        "outputId": "32bc6331-d15d-49bf-f861-32a0abbc3224"
      },
      "execution_count": 40,
      "outputs": [
        {
          "output_type": "stream",
          "name": "stderr",
          "text": [
            "<ipython-input-40-d430deabe29d>:1: FutureWarning: The default value of regex will change from True to False in a future version.\n",
            "  car['City_Mileage']=car['City_Mileage'].str.replace('12.5-12.7','12.5')\n"
          ]
        }
      ]
    },
    {
      "cell_type": "code",
      "source": [
        "car['City_Mileage']=car['City_Mileage'].astype(float)"
      ],
      "metadata": {
        "id": "4UW_5444ONU7"
      },
      "execution_count": 41,
      "outputs": []
    },
    {
      "cell_type": "code",
      "source": [
        "car['City_Mileage'].isnull().sum()"
      ],
      "metadata": {
        "colab": {
          "base_uri": "https://localhost:8080/"
        },
        "id": "28AqMqiaOP0q",
        "outputId": "025c6fc2-e649-4074-d46f-086e7fc95aa1"
      },
      "execution_count": 42,
      "outputs": [
        {
          "output_type": "execute_result",
          "data": {
            "text/plain": [
              "518"
            ]
          },
          "metadata": {},
          "execution_count": 42
        }
      ]
    },
    {
      "cell_type": "code",
      "source": [
        "car['City_Mileage']=car['City_Mileage'].replace(np.nan,car.City_Mileage.median())"
      ],
      "metadata": {
        "id": "4kX-cHk8OTZL"
      },
      "execution_count": 43,
      "outputs": []
    },
    {
      "cell_type": "code",
      "source": [
        "car['City_Mileage']"
      ],
      "metadata": {
        "colab": {
          "base_uri": "https://localhost:8080/"
        },
        "id": "a0hGqv3YOWbz",
        "outputId": "ada8de85-1310-4dbb-8733-193eb5f05cdf"
      },
      "execution_count": 44,
      "outputs": [
        {
          "output_type": "execute_result",
          "data": {
            "text/plain": [
              "0       23.60\n",
              "1       23.60\n",
              "2       15.50\n",
              "3       23.60\n",
              "4       23.60\n",
              "        ...  \n",
              "1271    22.60\n",
              "1272    22.60\n",
              "1273    18.00\n",
              "1274    14.30\n",
              "1275     8.25\n",
              "Name: City_Mileage, Length: 1183, dtype: float64"
            ]
          },
          "metadata": {},
          "execution_count": 44
        }
      ]
    },
    {
      "cell_type": "markdown",
      "source": [
        "*SEATING CAPACITY*"
      ],
      "metadata": {
        "id": "gA9644AdOZOi"
      }
    },
    {
      "cell_type": "code",
      "source": [
        "car['Seating_Capacity']"
      ],
      "metadata": {
        "colab": {
          "base_uri": "https://localhost:8080/",
          "height": 423
        },
        "id": "UEIpgE9wOdFJ",
        "outputId": "5d9de4fd-e45d-4d44-cd7d-a859263f04b6"
      },
      "execution_count": 45,
      "outputs": [
        {
          "output_type": "execute_result",
          "data": {
            "text/plain": [
              "      Seating_Capacity  Seating_Capacity\n",
              "0                  4.0               4.0\n",
              "1                  4.0               4.0\n",
              "2                  4.0               4.0\n",
              "3                  4.0               4.0\n",
              "4                  4.0               4.0\n",
              "...                ...               ...\n",
              "1271               5.0               5.0\n",
              "1272               5.0               5.0\n",
              "1273               5.0               5.0\n",
              "1274               5.0               5.0\n",
              "1275               7.0               7.0\n",
              "\n",
              "[1183 rows x 2 columns]"
            ],
            "text/html": [
              "\n",
              "  <div id=\"df-4cc10f96-2336-489b-af5b-2ed8236931a0\" class=\"colab-df-container\">\n",
              "    <div>\n",
              "<style scoped>\n",
              "    .dataframe tbody tr th:only-of-type {\n",
              "        vertical-align: middle;\n",
              "    }\n",
              "\n",
              "    .dataframe tbody tr th {\n",
              "        vertical-align: top;\n",
              "    }\n",
              "\n",
              "    .dataframe thead th {\n",
              "        text-align: right;\n",
              "    }\n",
              "</style>\n",
              "<table border=\"1\" class=\"dataframe\">\n",
              "  <thead>\n",
              "    <tr style=\"text-align: right;\">\n",
              "      <th></th>\n",
              "      <th>Seating_Capacity</th>\n",
              "      <th>Seating_Capacity</th>\n",
              "    </tr>\n",
              "  </thead>\n",
              "  <tbody>\n",
              "    <tr>\n",
              "      <th>0</th>\n",
              "      <td>4.0</td>\n",
              "      <td>4.0</td>\n",
              "    </tr>\n",
              "    <tr>\n",
              "      <th>1</th>\n",
              "      <td>4.0</td>\n",
              "      <td>4.0</td>\n",
              "    </tr>\n",
              "    <tr>\n",
              "      <th>2</th>\n",
              "      <td>4.0</td>\n",
              "      <td>4.0</td>\n",
              "    </tr>\n",
              "    <tr>\n",
              "      <th>3</th>\n",
              "      <td>4.0</td>\n",
              "      <td>4.0</td>\n",
              "    </tr>\n",
              "    <tr>\n",
              "      <th>4</th>\n",
              "      <td>4.0</td>\n",
              "      <td>4.0</td>\n",
              "    </tr>\n",
              "    <tr>\n",
              "      <th>...</th>\n",
              "      <td>...</td>\n",
              "      <td>...</td>\n",
              "    </tr>\n",
              "    <tr>\n",
              "      <th>1271</th>\n",
              "      <td>5.0</td>\n",
              "      <td>5.0</td>\n",
              "    </tr>\n",
              "    <tr>\n",
              "      <th>1272</th>\n",
              "      <td>5.0</td>\n",
              "      <td>5.0</td>\n",
              "    </tr>\n",
              "    <tr>\n",
              "      <th>1273</th>\n",
              "      <td>5.0</td>\n",
              "      <td>5.0</td>\n",
              "    </tr>\n",
              "    <tr>\n",
              "      <th>1274</th>\n",
              "      <td>5.0</td>\n",
              "      <td>5.0</td>\n",
              "    </tr>\n",
              "    <tr>\n",
              "      <th>1275</th>\n",
              "      <td>7.0</td>\n",
              "      <td>7.0</td>\n",
              "    </tr>\n",
              "  </tbody>\n",
              "</table>\n",
              "<p>1183 rows × 2 columns</p>\n",
              "</div>\n",
              "    <div class=\"colab-df-buttons\">\n",
              "\n",
              "  <div class=\"colab-df-container\">\n",
              "    <button class=\"colab-df-convert\" onclick=\"convertToInteractive('df-4cc10f96-2336-489b-af5b-2ed8236931a0')\"\n",
              "            title=\"Convert this dataframe to an interactive table.\"\n",
              "            style=\"display:none;\">\n",
              "\n",
              "  <svg xmlns=\"http://www.w3.org/2000/svg\" height=\"24px\" viewBox=\"0 -960 960 960\">\n",
              "    <path d=\"M120-120v-720h720v720H120Zm60-500h600v-160H180v160Zm220 220h160v-160H400v160Zm0 220h160v-160H400v160ZM180-400h160v-160H180v160Zm440 0h160v-160H620v160ZM180-180h160v-160H180v160Zm440 0h160v-160H620v160Z\"/>\n",
              "  </svg>\n",
              "    </button>\n",
              "\n",
              "  <style>\n",
              "    .colab-df-container {\n",
              "      display:flex;\n",
              "      gap: 12px;\n",
              "    }\n",
              "\n",
              "    .colab-df-convert {\n",
              "      background-color: #E8F0FE;\n",
              "      border: none;\n",
              "      border-radius: 50%;\n",
              "      cursor: pointer;\n",
              "      display: none;\n",
              "      fill: #1967D2;\n",
              "      height: 32px;\n",
              "      padding: 0 0 0 0;\n",
              "      width: 32px;\n",
              "    }\n",
              "\n",
              "    .colab-df-convert:hover {\n",
              "      background-color: #E2EBFA;\n",
              "      box-shadow: 0px 1px 2px rgba(60, 64, 67, 0.3), 0px 1px 3px 1px rgba(60, 64, 67, 0.15);\n",
              "      fill: #174EA6;\n",
              "    }\n",
              "\n",
              "    .colab-df-buttons div {\n",
              "      margin-bottom: 4px;\n",
              "    }\n",
              "\n",
              "    [theme=dark] .colab-df-convert {\n",
              "      background-color: #3B4455;\n",
              "      fill: #D2E3FC;\n",
              "    }\n",
              "\n",
              "    [theme=dark] .colab-df-convert:hover {\n",
              "      background-color: #434B5C;\n",
              "      box-shadow: 0px 1px 3px 1px rgba(0, 0, 0, 0.15);\n",
              "      filter: drop-shadow(0px 1px 2px rgba(0, 0, 0, 0.3));\n",
              "      fill: #FFFFFF;\n",
              "    }\n",
              "  </style>\n",
              "\n",
              "    <script>\n",
              "      const buttonEl =\n",
              "        document.querySelector('#df-4cc10f96-2336-489b-af5b-2ed8236931a0 button.colab-df-convert');\n",
              "      buttonEl.style.display =\n",
              "        google.colab.kernel.accessAllowed ? 'block' : 'none';\n",
              "\n",
              "      async function convertToInteractive(key) {\n",
              "        const element = document.querySelector('#df-4cc10f96-2336-489b-af5b-2ed8236931a0');\n",
              "        const dataTable =\n",
              "          await google.colab.kernel.invokeFunction('convertToInteractive',\n",
              "                                                    [key], {});\n",
              "        if (!dataTable) return;\n",
              "\n",
              "        const docLinkHtml = 'Like what you see? Visit the ' +\n",
              "          '<a target=\"_blank\" href=https://colab.research.google.com/notebooks/data_table.ipynb>data table notebook</a>'\n",
              "          + ' to learn more about interactive tables.';\n",
              "        element.innerHTML = '';\n",
              "        dataTable['output_type'] = 'display_data';\n",
              "        await google.colab.output.renderOutput(dataTable, element);\n",
              "        const docLink = document.createElement('div');\n",
              "        docLink.innerHTML = docLinkHtml;\n",
              "        element.appendChild(docLink);\n",
              "      }\n",
              "    </script>\n",
              "  </div>\n",
              "\n",
              "\n",
              "<div id=\"df-da3d3285-104d-4513-9e83-50ac2bc1b97a\">\n",
              "  <button class=\"colab-df-quickchart\" onclick=\"quickchart('df-da3d3285-104d-4513-9e83-50ac2bc1b97a')\"\n",
              "            title=\"Suggest charts\"\n",
              "            style=\"display:none;\">\n",
              "\n",
              "<svg xmlns=\"http://www.w3.org/2000/svg\" height=\"24px\"viewBox=\"0 0 24 24\"\n",
              "     width=\"24px\">\n",
              "    <g>\n",
              "        <path d=\"M19 3H5c-1.1 0-2 .9-2 2v14c0 1.1.9 2 2 2h14c1.1 0 2-.9 2-2V5c0-1.1-.9-2-2-2zM9 17H7v-7h2v7zm4 0h-2V7h2v10zm4 0h-2v-4h2v4z\"/>\n",
              "    </g>\n",
              "</svg>\n",
              "  </button>\n",
              "\n",
              "<style>\n",
              "  .colab-df-quickchart {\n",
              "      --bg-color: #E8F0FE;\n",
              "      --fill-color: #1967D2;\n",
              "      --hover-bg-color: #E2EBFA;\n",
              "      --hover-fill-color: #174EA6;\n",
              "      --disabled-fill-color: #AAA;\n",
              "      --disabled-bg-color: #DDD;\n",
              "  }\n",
              "\n",
              "  [theme=dark] .colab-df-quickchart {\n",
              "      --bg-color: #3B4455;\n",
              "      --fill-color: #D2E3FC;\n",
              "      --hover-bg-color: #434B5C;\n",
              "      --hover-fill-color: #FFFFFF;\n",
              "      --disabled-bg-color: #3B4455;\n",
              "      --disabled-fill-color: #666;\n",
              "  }\n",
              "\n",
              "  .colab-df-quickchart {\n",
              "    background-color: var(--bg-color);\n",
              "    border: none;\n",
              "    border-radius: 50%;\n",
              "    cursor: pointer;\n",
              "    display: none;\n",
              "    fill: var(--fill-color);\n",
              "    height: 32px;\n",
              "    padding: 0;\n",
              "    width: 32px;\n",
              "  }\n",
              "\n",
              "  .colab-df-quickchart:hover {\n",
              "    background-color: var(--hover-bg-color);\n",
              "    box-shadow: 0 1px 2px rgba(60, 64, 67, 0.3), 0 1px 3px 1px rgba(60, 64, 67, 0.15);\n",
              "    fill: var(--button-hover-fill-color);\n",
              "  }\n",
              "\n",
              "  .colab-df-quickchart-complete:disabled,\n",
              "  .colab-df-quickchart-complete:disabled:hover {\n",
              "    background-color: var(--disabled-bg-color);\n",
              "    fill: var(--disabled-fill-color);\n",
              "    box-shadow: none;\n",
              "  }\n",
              "\n",
              "  .colab-df-spinner {\n",
              "    border: 2px solid var(--fill-color);\n",
              "    border-color: transparent;\n",
              "    border-bottom-color: var(--fill-color);\n",
              "    animation:\n",
              "      spin 1s steps(1) infinite;\n",
              "  }\n",
              "\n",
              "  @keyframes spin {\n",
              "    0% {\n",
              "      border-color: transparent;\n",
              "      border-bottom-color: var(--fill-color);\n",
              "      border-left-color: var(--fill-color);\n",
              "    }\n",
              "    20% {\n",
              "      border-color: transparent;\n",
              "      border-left-color: var(--fill-color);\n",
              "      border-top-color: var(--fill-color);\n",
              "    }\n",
              "    30% {\n",
              "      border-color: transparent;\n",
              "      border-left-color: var(--fill-color);\n",
              "      border-top-color: var(--fill-color);\n",
              "      border-right-color: var(--fill-color);\n",
              "    }\n",
              "    40% {\n",
              "      border-color: transparent;\n",
              "      border-right-color: var(--fill-color);\n",
              "      border-top-color: var(--fill-color);\n",
              "    }\n",
              "    60% {\n",
              "      border-color: transparent;\n",
              "      border-right-color: var(--fill-color);\n",
              "    }\n",
              "    80% {\n",
              "      border-color: transparent;\n",
              "      border-right-color: var(--fill-color);\n",
              "      border-bottom-color: var(--fill-color);\n",
              "    }\n",
              "    90% {\n",
              "      border-color: transparent;\n",
              "      border-bottom-color: var(--fill-color);\n",
              "    }\n",
              "  }\n",
              "</style>\n",
              "\n",
              "  <script>\n",
              "    async function quickchart(key) {\n",
              "      const quickchartButtonEl =\n",
              "        document.querySelector('#' + key + ' button');\n",
              "      quickchartButtonEl.disabled = true;  // To prevent multiple clicks.\n",
              "      quickchartButtonEl.classList.add('colab-df-spinner');\n",
              "      try {\n",
              "        const charts = await google.colab.kernel.invokeFunction(\n",
              "            'suggestCharts', [key], {});\n",
              "      } catch (error) {\n",
              "        console.error('Error during call to suggestCharts:', error);\n",
              "      }\n",
              "      quickchartButtonEl.classList.remove('colab-df-spinner');\n",
              "      quickchartButtonEl.classList.add('colab-df-quickchart-complete');\n",
              "    }\n",
              "    (() => {\n",
              "      let quickchartButtonEl =\n",
              "        document.querySelector('#df-da3d3285-104d-4513-9e83-50ac2bc1b97a button');\n",
              "      quickchartButtonEl.style.display =\n",
              "        google.colab.kernel.accessAllowed ? 'block' : 'none';\n",
              "    })();\n",
              "  </script>\n",
              "</div>\n",
              "\n",
              "    </div>\n",
              "  </div>\n"
            ]
          },
          "metadata": {},
          "execution_count": 45
        }
      ]
    },
    {
      "cell_type": "code",
      "source": [
        "car['Seating_Capacity'].isnull().sum()"
      ],
      "metadata": {
        "colab": {
          "base_uri": "https://localhost:8080/"
        },
        "id": "mdWzvfLUOf7k",
        "outputId": "45011a04-4e68-4791-a3e1-23806df5e252"
      },
      "execution_count": 46,
      "outputs": [
        {
          "output_type": "execute_result",
          "data": {
            "text/plain": [
              "Seating_Capacity    5\n",
              "Seating_Capacity    5\n",
              "dtype: int64"
            ]
          },
          "metadata": {},
          "execution_count": 46
        }
      ]
    },
    {
      "cell_type": "code",
      "source": [
        "car['Seating_Capacity']=car['Seating_Capacity'].replace(np.nan,car.Seating_Capacity.median())"
      ],
      "metadata": {
        "id": "AwJBE50kOiXn"
      },
      "execution_count": 47,
      "outputs": []
    },
    {
      "cell_type": "code",
      "source": [
        "car['Seating_Capacity']=car['Seating_Capacity'].astype(int)"
      ],
      "metadata": {
        "id": "_PG95D06Okk9"
      },
      "execution_count": 48,
      "outputs": []
    },
    {
      "cell_type": "code",
      "source": [
        "car['Seating_Capacity']"
      ],
      "metadata": {
        "colab": {
          "base_uri": "https://localhost:8080/",
          "height": 423
        },
        "id": "5s1h6H2JOmoR",
        "outputId": "93b576d6-fc53-4662-fc8f-61cc23e5a4f3"
      },
      "execution_count": 49,
      "outputs": [
        {
          "output_type": "execute_result",
          "data": {
            "text/plain": [
              "      Seating_Capacity  Seating_Capacity\n",
              "0                    4                 4\n",
              "1                    4                 4\n",
              "2                    4                 4\n",
              "3                    4                 4\n",
              "4                    4                 4\n",
              "...                ...               ...\n",
              "1271                 5                 5\n",
              "1272                 5                 5\n",
              "1273                 5                 5\n",
              "1274                 5                 5\n",
              "1275                 7                 7\n",
              "\n",
              "[1183 rows x 2 columns]"
            ],
            "text/html": [
              "\n",
              "  <div id=\"df-b0e43c88-ca39-4a73-9890-32dbad5eaacc\" class=\"colab-df-container\">\n",
              "    <div>\n",
              "<style scoped>\n",
              "    .dataframe tbody tr th:only-of-type {\n",
              "        vertical-align: middle;\n",
              "    }\n",
              "\n",
              "    .dataframe tbody tr th {\n",
              "        vertical-align: top;\n",
              "    }\n",
              "\n",
              "    .dataframe thead th {\n",
              "        text-align: right;\n",
              "    }\n",
              "</style>\n",
              "<table border=\"1\" class=\"dataframe\">\n",
              "  <thead>\n",
              "    <tr style=\"text-align: right;\">\n",
              "      <th></th>\n",
              "      <th>Seating_Capacity</th>\n",
              "      <th>Seating_Capacity</th>\n",
              "    </tr>\n",
              "  </thead>\n",
              "  <tbody>\n",
              "    <tr>\n",
              "      <th>0</th>\n",
              "      <td>4</td>\n",
              "      <td>4</td>\n",
              "    </tr>\n",
              "    <tr>\n",
              "      <th>1</th>\n",
              "      <td>4</td>\n",
              "      <td>4</td>\n",
              "    </tr>\n",
              "    <tr>\n",
              "      <th>2</th>\n",
              "      <td>4</td>\n",
              "      <td>4</td>\n",
              "    </tr>\n",
              "    <tr>\n",
              "      <th>3</th>\n",
              "      <td>4</td>\n",
              "      <td>4</td>\n",
              "    </tr>\n",
              "    <tr>\n",
              "      <th>4</th>\n",
              "      <td>4</td>\n",
              "      <td>4</td>\n",
              "    </tr>\n",
              "    <tr>\n",
              "      <th>...</th>\n",
              "      <td>...</td>\n",
              "      <td>...</td>\n",
              "    </tr>\n",
              "    <tr>\n",
              "      <th>1271</th>\n",
              "      <td>5</td>\n",
              "      <td>5</td>\n",
              "    </tr>\n",
              "    <tr>\n",
              "      <th>1272</th>\n",
              "      <td>5</td>\n",
              "      <td>5</td>\n",
              "    </tr>\n",
              "    <tr>\n",
              "      <th>1273</th>\n",
              "      <td>5</td>\n",
              "      <td>5</td>\n",
              "    </tr>\n",
              "    <tr>\n",
              "      <th>1274</th>\n",
              "      <td>5</td>\n",
              "      <td>5</td>\n",
              "    </tr>\n",
              "    <tr>\n",
              "      <th>1275</th>\n",
              "      <td>7</td>\n",
              "      <td>7</td>\n",
              "    </tr>\n",
              "  </tbody>\n",
              "</table>\n",
              "<p>1183 rows × 2 columns</p>\n",
              "</div>\n",
              "    <div class=\"colab-df-buttons\">\n",
              "\n",
              "  <div class=\"colab-df-container\">\n",
              "    <button class=\"colab-df-convert\" onclick=\"convertToInteractive('df-b0e43c88-ca39-4a73-9890-32dbad5eaacc')\"\n",
              "            title=\"Convert this dataframe to an interactive table.\"\n",
              "            style=\"display:none;\">\n",
              "\n",
              "  <svg xmlns=\"http://www.w3.org/2000/svg\" height=\"24px\" viewBox=\"0 -960 960 960\">\n",
              "    <path d=\"M120-120v-720h720v720H120Zm60-500h600v-160H180v160Zm220 220h160v-160H400v160Zm0 220h160v-160H400v160ZM180-400h160v-160H180v160Zm440 0h160v-160H620v160ZM180-180h160v-160H180v160Zm440 0h160v-160H620v160Z\"/>\n",
              "  </svg>\n",
              "    </button>\n",
              "\n",
              "  <style>\n",
              "    .colab-df-container {\n",
              "      display:flex;\n",
              "      gap: 12px;\n",
              "    }\n",
              "\n",
              "    .colab-df-convert {\n",
              "      background-color: #E8F0FE;\n",
              "      border: none;\n",
              "      border-radius: 50%;\n",
              "      cursor: pointer;\n",
              "      display: none;\n",
              "      fill: #1967D2;\n",
              "      height: 32px;\n",
              "      padding: 0 0 0 0;\n",
              "      width: 32px;\n",
              "    }\n",
              "\n",
              "    .colab-df-convert:hover {\n",
              "      background-color: #E2EBFA;\n",
              "      box-shadow: 0px 1px 2px rgba(60, 64, 67, 0.3), 0px 1px 3px 1px rgba(60, 64, 67, 0.15);\n",
              "      fill: #174EA6;\n",
              "    }\n",
              "\n",
              "    .colab-df-buttons div {\n",
              "      margin-bottom: 4px;\n",
              "    }\n",
              "\n",
              "    [theme=dark] .colab-df-convert {\n",
              "      background-color: #3B4455;\n",
              "      fill: #D2E3FC;\n",
              "    }\n",
              "\n",
              "    [theme=dark] .colab-df-convert:hover {\n",
              "      background-color: #434B5C;\n",
              "      box-shadow: 0px 1px 3px 1px rgba(0, 0, 0, 0.15);\n",
              "      filter: drop-shadow(0px 1px 2px rgba(0, 0, 0, 0.3));\n",
              "      fill: #FFFFFF;\n",
              "    }\n",
              "  </style>\n",
              "\n",
              "    <script>\n",
              "      const buttonEl =\n",
              "        document.querySelector('#df-b0e43c88-ca39-4a73-9890-32dbad5eaacc button.colab-df-convert');\n",
              "      buttonEl.style.display =\n",
              "        google.colab.kernel.accessAllowed ? 'block' : 'none';\n",
              "\n",
              "      async function convertToInteractive(key) {\n",
              "        const element = document.querySelector('#df-b0e43c88-ca39-4a73-9890-32dbad5eaacc');\n",
              "        const dataTable =\n",
              "          await google.colab.kernel.invokeFunction('convertToInteractive',\n",
              "                                                    [key], {});\n",
              "        if (!dataTable) return;\n",
              "\n",
              "        const docLinkHtml = 'Like what you see? Visit the ' +\n",
              "          '<a target=\"_blank\" href=https://colab.research.google.com/notebooks/data_table.ipynb>data table notebook</a>'\n",
              "          + ' to learn more about interactive tables.';\n",
              "        element.innerHTML = '';\n",
              "        dataTable['output_type'] = 'display_data';\n",
              "        await google.colab.output.renderOutput(dataTable, element);\n",
              "        const docLink = document.createElement('div');\n",
              "        docLink.innerHTML = docLinkHtml;\n",
              "        element.appendChild(docLink);\n",
              "      }\n",
              "    </script>\n",
              "  </div>\n",
              "\n",
              "\n",
              "<div id=\"df-caacd73f-c8a0-45b4-b3a8-77771622c3bb\">\n",
              "  <button class=\"colab-df-quickchart\" onclick=\"quickchart('df-caacd73f-c8a0-45b4-b3a8-77771622c3bb')\"\n",
              "            title=\"Suggest charts\"\n",
              "            style=\"display:none;\">\n",
              "\n",
              "<svg xmlns=\"http://www.w3.org/2000/svg\" height=\"24px\"viewBox=\"0 0 24 24\"\n",
              "     width=\"24px\">\n",
              "    <g>\n",
              "        <path d=\"M19 3H5c-1.1 0-2 .9-2 2v14c0 1.1.9 2 2 2h14c1.1 0 2-.9 2-2V5c0-1.1-.9-2-2-2zM9 17H7v-7h2v7zm4 0h-2V7h2v10zm4 0h-2v-4h2v4z\"/>\n",
              "    </g>\n",
              "</svg>\n",
              "  </button>\n",
              "\n",
              "<style>\n",
              "  .colab-df-quickchart {\n",
              "      --bg-color: #E8F0FE;\n",
              "      --fill-color: #1967D2;\n",
              "      --hover-bg-color: #E2EBFA;\n",
              "      --hover-fill-color: #174EA6;\n",
              "      --disabled-fill-color: #AAA;\n",
              "      --disabled-bg-color: #DDD;\n",
              "  }\n",
              "\n",
              "  [theme=dark] .colab-df-quickchart {\n",
              "      --bg-color: #3B4455;\n",
              "      --fill-color: #D2E3FC;\n",
              "      --hover-bg-color: #434B5C;\n",
              "      --hover-fill-color: #FFFFFF;\n",
              "      --disabled-bg-color: #3B4455;\n",
              "      --disabled-fill-color: #666;\n",
              "  }\n",
              "\n",
              "  .colab-df-quickchart {\n",
              "    background-color: var(--bg-color);\n",
              "    border: none;\n",
              "    border-radius: 50%;\n",
              "    cursor: pointer;\n",
              "    display: none;\n",
              "    fill: var(--fill-color);\n",
              "    height: 32px;\n",
              "    padding: 0;\n",
              "    width: 32px;\n",
              "  }\n",
              "\n",
              "  .colab-df-quickchart:hover {\n",
              "    background-color: var(--hover-bg-color);\n",
              "    box-shadow: 0 1px 2px rgba(60, 64, 67, 0.3), 0 1px 3px 1px rgba(60, 64, 67, 0.15);\n",
              "    fill: var(--button-hover-fill-color);\n",
              "  }\n",
              "\n",
              "  .colab-df-quickchart-complete:disabled,\n",
              "  .colab-df-quickchart-complete:disabled:hover {\n",
              "    background-color: var(--disabled-bg-color);\n",
              "    fill: var(--disabled-fill-color);\n",
              "    box-shadow: none;\n",
              "  }\n",
              "\n",
              "  .colab-df-spinner {\n",
              "    border: 2px solid var(--fill-color);\n",
              "    border-color: transparent;\n",
              "    border-bottom-color: var(--fill-color);\n",
              "    animation:\n",
              "      spin 1s steps(1) infinite;\n",
              "  }\n",
              "\n",
              "  @keyframes spin {\n",
              "    0% {\n",
              "      border-color: transparent;\n",
              "      border-bottom-color: var(--fill-color);\n",
              "      border-left-color: var(--fill-color);\n",
              "    }\n",
              "    20% {\n",
              "      border-color: transparent;\n",
              "      border-left-color: var(--fill-color);\n",
              "      border-top-color: var(--fill-color);\n",
              "    }\n",
              "    30% {\n",
              "      border-color: transparent;\n",
              "      border-left-color: var(--fill-color);\n",
              "      border-top-color: var(--fill-color);\n",
              "      border-right-color: var(--fill-color);\n",
              "    }\n",
              "    40% {\n",
              "      border-color: transparent;\n",
              "      border-right-color: var(--fill-color);\n",
              "      border-top-color: var(--fill-color);\n",
              "    }\n",
              "    60% {\n",
              "      border-color: transparent;\n",
              "      border-right-color: var(--fill-color);\n",
              "    }\n",
              "    80% {\n",
              "      border-color: transparent;\n",
              "      border-right-color: var(--fill-color);\n",
              "      border-bottom-color: var(--fill-color);\n",
              "    }\n",
              "    90% {\n",
              "      border-color: transparent;\n",
              "      border-bottom-color: var(--fill-color);\n",
              "    }\n",
              "  }\n",
              "</style>\n",
              "\n",
              "  <script>\n",
              "    async function quickchart(key) {\n",
              "      const quickchartButtonEl =\n",
              "        document.querySelector('#' + key + ' button');\n",
              "      quickchartButtonEl.disabled = true;  // To prevent multiple clicks.\n",
              "      quickchartButtonEl.classList.add('colab-df-spinner');\n",
              "      try {\n",
              "        const charts = await google.colab.kernel.invokeFunction(\n",
              "            'suggestCharts', [key], {});\n",
              "      } catch (error) {\n",
              "        console.error('Error during call to suggestCharts:', error);\n",
              "      }\n",
              "      quickchartButtonEl.classList.remove('colab-df-spinner');\n",
              "      quickchartButtonEl.classList.add('colab-df-quickchart-complete');\n",
              "    }\n",
              "    (() => {\n",
              "      let quickchartButtonEl =\n",
              "        document.querySelector('#df-caacd73f-c8a0-45b4-b3a8-77771622c3bb button');\n",
              "      quickchartButtonEl.style.display =\n",
              "        google.colab.kernel.accessAllowed ? 'block' : 'none';\n",
              "    })();\n",
              "  </script>\n",
              "</div>\n",
              "\n",
              "    </div>\n",
              "  </div>\n"
            ]
          },
          "metadata": {},
          "execution_count": 49
        }
      ]
    },
    {
      "cell_type": "markdown",
      "source": [
        "*NUMBER OF AIRBAGS COLUMNS*"
      ],
      "metadata": {
        "id": "OoqMOxc0OqJ6"
      }
    },
    {
      "cell_type": "code",
      "source": [
        "car.Number_of_Airbags.info"
      ],
      "metadata": {
        "colab": {
          "base_uri": "https://localhost:8080/"
        },
        "id": "6oBiqYvyOueC",
        "outputId": "d79b0336-4250-4d16-ab6a-dfb72022ba56"
      },
      "execution_count": 50,
      "outputs": [
        {
          "output_type": "execute_result",
          "data": {
            "text/plain": [
              "<bound method Series.info of 0       NaN\n",
              "1       NaN\n",
              "2       NaN\n",
              "3       NaN\n",
              "4       NaN\n",
              "       ... \n",
              "1271    2.0\n",
              "1272    6.0\n",
              "1273    6.0\n",
              "1274    2.0\n",
              "1275    6.0\n",
              "Name: Number_of_Airbags, Length: 1183, dtype: float64>"
            ]
          },
          "metadata": {},
          "execution_count": 50
        }
      ]
    },
    {
      "cell_type": "code",
      "source": [
        "car['Number_of_Airbags'].isnull().sum()"
      ],
      "metadata": {
        "colab": {
          "base_uri": "https://localhost:8080/"
        },
        "id": "0vTLryPEOxt5",
        "outputId": "ab53c87e-c70a-4602-d610-1286932f14ca"
      },
      "execution_count": 51,
      "outputs": [
        {
          "output_type": "execute_result",
          "data": {
            "text/plain": [
              "125"
            ]
          },
          "metadata": {},
          "execution_count": 51
        }
      ]
    },
    {
      "cell_type": "code",
      "source": [
        "car['Number_of_Airbags']=car['Number_of_Airbags'].replace(np.nan,car.Number_of_Airbags.median())"
      ],
      "metadata": {
        "id": "mH7N7e7OO0H6"
      },
      "execution_count": 52,
      "outputs": []
    },
    {
      "cell_type": "code",
      "source": [
        "car['Number_of_Airbags']=car['Number_of_Airbags'].astype(int)"
      ],
      "metadata": {
        "id": "HAqOtUv3O1uZ"
      },
      "execution_count": 53,
      "outputs": []
    },
    {
      "cell_type": "code",
      "source": [
        "car.Number_of_Airbags.info"
      ],
      "metadata": {
        "colab": {
          "base_uri": "https://localhost:8080/"
        },
        "id": "-7wNhdytO30h",
        "outputId": "639f627f-fdf4-4336-9ec8-307610e81c06"
      },
      "execution_count": 54,
      "outputs": [
        {
          "output_type": "execute_result",
          "data": {
            "text/plain": [
              "<bound method Series.info of 0       2\n",
              "1       2\n",
              "2       2\n",
              "3       2\n",
              "4       2\n",
              "       ..\n",
              "1271    2\n",
              "1272    6\n",
              "1273    6\n",
              "1274    2\n",
              "1275    6\n",
              "Name: Number_of_Airbags, Length: 1183, dtype: int64>"
            ]
          },
          "metadata": {},
          "execution_count": 54
        }
      ]
    },
    {
      "cell_type": "markdown",
      "source": [
        "*PARKING ASSISTANCE COLUMN*"
      ],
      "metadata": {
        "id": "GsAm99dUO6Yh"
      }
    },
    {
      "cell_type": "code",
      "source": [
        "car.Parking_Assistance.info"
      ],
      "metadata": {
        "colab": {
          "base_uri": "https://localhost:8080/"
        },
        "id": "Pbv9Ta7kO_9A",
        "outputId": "a14a1ed3-53ca-4f8e-f90c-7cf1c23e1322"
      },
      "execution_count": 55,
      "outputs": [
        {
          "output_type": "execute_result",
          "data": {
            "text/plain": [
              "<bound method Series.info of 0                                      NaN\n",
              "1                                      NaN\n",
              "2                                      NaN\n",
              "3                                      NaN\n",
              "4                                      NaN\n",
              "                       ...                \n",
              "1271    Front and rear sensors with camera\n",
              "1272              Rear sensors with camera\n",
              "1273              Rear sensors with camera\n",
              "1274    Front and rear sensors with camera\n",
              "1275              Rear sensors with camera\n",
              "Name: Parking_Assistance, Length: 1183, dtype: object>"
            ]
          },
          "metadata": {},
          "execution_count": 55
        }
      ]
    },
    {
      "cell_type": "code",
      "source": [
        "car.Parking_Assistance.isnull().sum()"
      ],
      "metadata": {
        "colab": {
          "base_uri": "https://localhost:8080/"
        },
        "id": "lNjODjwEO6Mn",
        "outputId": "5d9d6db0-10c4-4253-bbbc-d80ea3eec71a"
      },
      "execution_count": 56,
      "outputs": [
        {
          "output_type": "execute_result",
          "data": {
            "text/plain": [
              "281"
            ]
          },
          "metadata": {},
          "execution_count": 56
        }
      ]
    },
    {
      "cell_type": "code",
      "source": [
        "car['Parking_Assistance']=car['Parking_Assistance'].replace(np.nan,'No')"
      ],
      "metadata": {
        "id": "A2qLRCmHPFxZ"
      },
      "execution_count": 57,
      "outputs": []
    },
    {
      "cell_type": "code",
      "source": [
        "car.Child_Safety_Locks"
      ],
      "metadata": {
        "colab": {
          "base_uri": "https://localhost:8080/"
        },
        "id": "nIJliDIdPHZi",
        "outputId": "dfcd03b9-60ed-46e7-b525-36425f7dddc3"
      },
      "execution_count": 58,
      "outputs": [
        {
          "output_type": "execute_result",
          "data": {
            "text/plain": [
              "0       Yes\n",
              "1       Yes\n",
              "2       Yes\n",
              "3       Yes\n",
              "4       Yes\n",
              "       ... \n",
              "1271    Yes\n",
              "1272    Yes\n",
              "1273    Yes\n",
              "1274    Yes\n",
              "1275    Yes\n",
              "Name: Child_Safety_Locks, Length: 1183, dtype: object"
            ]
          },
          "metadata": {},
          "execution_count": 58
        }
      ]
    },
    {
      "cell_type": "code",
      "source": [
        "car.Child_Safety_Locks.isnull().sum()"
      ],
      "metadata": {
        "colab": {
          "base_uri": "https://localhost:8080/"
        },
        "id": "dxlesCCWPJPg",
        "outputId": "0b46a95b-ffdf-42ef-cc9f-bc5b87b4118e"
      },
      "execution_count": 59,
      "outputs": [
        {
          "output_type": "execute_result",
          "data": {
            "text/plain": [
              "61"
            ]
          },
          "metadata": {},
          "execution_count": 59
        }
      ]
    },
    {
      "cell_type": "code",
      "source": [
        "car['Child_Safety_Locks']=car['Child_Safety_Locks'].replace(np.nan,'No')"
      ],
      "metadata": {
        "id": "k-VQ4gu6PJJW"
      },
      "execution_count": 60,
      "outputs": []
    },
    {
      "cell_type": "markdown",
      "source": [
        "*NAVIGATION SYSTEM COLUMN*"
      ],
      "metadata": {
        "id": "zU-nSu7rPNz3"
      }
    },
    {
      "cell_type": "code",
      "source": [
        "car.Navigation_System.info"
      ],
      "metadata": {
        "colab": {
          "base_uri": "https://localhost:8080/"
        },
        "id": "rz_KPDBlPS5_",
        "outputId": "e8293c5e-4e49-4a3d-92eb-262cb0ff82a5"
      },
      "execution_count": 61,
      "outputs": [
        {
          "output_type": "execute_result",
          "data": {
            "text/plain": [
              "<bound method Series.info of 0       NaN\n",
              "1       NaN\n",
              "2       NaN\n",
              "3       NaN\n",
              "4       NaN\n",
              "       ... \n",
              "1271    Yes\n",
              "1272    Yes\n",
              "1273    Yes\n",
              "1274    Yes\n",
              "1275    Yes\n",
              "Name: Navigation_System, Length: 1183, dtype: object>"
            ]
          },
          "metadata": {},
          "execution_count": 61
        }
      ]
    },
    {
      "cell_type": "code",
      "source": [
        "car['Navigation_System']=car['Navigation_System'].replace(np.nan,'No')"
      ],
      "metadata": {
        "id": "1nm5MVEtPWrB"
      },
      "execution_count": 62,
      "outputs": []
    },
    {
      "cell_type": "markdown",
      "source": [
        "*WARANTTY COLUMN*"
      ],
      "metadata": {
        "id": "zehdmxKRPo9g"
      }
    },
    {
      "cell_type": "code",
      "source": [
        "car.Basic_Warranty.unique()"
      ],
      "metadata": {
        "colab": {
          "base_uri": "https://localhost:8080/"
        },
        "id": "rjUbZvAKPsAQ",
        "outputId": "12f9c3ff-5f79-404e-bbed-aee3c0662b11"
      },
      "execution_count": 63,
      "outputs": [
        {
          "output_type": "execute_result",
          "data": {
            "text/plain": [
              "array(['2 years /75000 Kms (years/distance whichever comes first)',\n",
              "       '2 years / Unlimited Kms',\n",
              "       '2 Years / 50,000 Kms (Whichever comes earlier)', nan,\n",
              "       '2 years /40000 Kms (years/distance whichever comes first)',\n",
              "       '2 Years / 75,000 KM (whichever is earlier)',\n",
              "       '3 years /100000 Kms (years/distance whichever comes first)',\n",
              "       '24 months /50000 Kms (whichever comes first)',\n",
              "       '2 Years / 100,000 Kms (whichever comes first)',\n",
              "       '3 Years/1,00,000 Kms (Whichever comes earlier)',\n",
              "       '2 Years / 40,000 Kms (Whichever comes earlier)',\n",
              "       '3 years / Unlimited Kms',\n",
              "       '3 Years / 100000 km (whichever comes first)',\n",
              "       '2 Years Unlimited Kilometres', '3 years/40,000 km',\n",
              "       '2 Years Warranty',\n",
              "       '4 years / 80000 Kms (years/distance whichever comes first)',\n",
              "       '2 years /1,00,000 Kms (years/distance whichever comes first)',\n",
              "       '3 years/1 lakh kms (whichever is earlier)',\n",
              "       '3 years / 100,000 Kms',\n",
              "       '2 years /50000 Kms (years/distance whichever comes first)',\n",
              "       '1 Year /Unlimited KMs', '3 Years Warranty',\n",
              "       '3 years / 100,000 Km of warranty**',\n",
              "       '2 years without mileage limit'], dtype=object)"
            ]
          },
          "metadata": {},
          "execution_count": 63
        }
      ]
    },
    {
      "cell_type": "code",
      "source": [
        "car['Basic_Warranty']=car['Basic_Warranty'].str.split('Years').str[0].str.strip()"
      ],
      "metadata": {
        "id": "ewcZlUmbPvlB"
      },
      "execution_count": 64,
      "outputs": []
    },
    {
      "cell_type": "code",
      "source": [
        "car['Basic_Warranty']=car['Basic_Warranty'].str.extract('(\\d+)').astype(float)"
      ],
      "metadata": {
        "id": "YV6JyUIyPxea"
      },
      "execution_count": 65,
      "outputs": []
    },
    {
      "cell_type": "code",
      "source": [
        "car.Basic_Warranty.isnull().sum()"
      ],
      "metadata": {
        "colab": {
          "base_uri": "https://localhost:8080/"
        },
        "id": "qrrxZZV-Pzhm",
        "outputId": "54d2ba6c-894e-4276-cb9f-d763f2be0dc1"
      },
      "execution_count": 66,
      "outputs": [
        {
          "output_type": "execute_result",
          "data": {
            "text/plain": [
              "411"
            ]
          },
          "metadata": {},
          "execution_count": 66
        }
      ]
    },
    {
      "cell_type": "code",
      "source": [
        "car['Basic_Warranty']=car['Basic_Warranty'].replace(np.nan,car.Basic_Warranty.median())"
      ],
      "metadata": {
        "id": "dbFLwQFiP1Oe"
      },
      "execution_count": 67,
      "outputs": []
    },
    {
      "cell_type": "code",
      "source": [
        "car['Basic_Warranty']=car['Basic_Warranty'].astype(int)"
      ],
      "metadata": {
        "id": "KhNAPePOP3ME"
      },
      "execution_count": 68,
      "outputs": []
    },
    {
      "cell_type": "code",
      "source": [
        "car['Basic_Warranty']"
      ],
      "metadata": {
        "colab": {
          "base_uri": "https://localhost:8080/"
        },
        "id": "DM0m2iTyP4-d",
        "outputId": "a3451349-9b7e-4341-9bac-9831a2cc96a4"
      },
      "execution_count": 69,
      "outputs": [
        {
          "output_type": "execute_result",
          "data": {
            "text/plain": [
              "0       2\n",
              "1       2\n",
              "2       2\n",
              "3       2\n",
              "4       2\n",
              "       ..\n",
              "1271    2\n",
              "1272    2\n",
              "1273    2\n",
              "1274    2\n",
              "1275    2\n",
              "Name: Basic_Warranty, Length: 1183, dtype: int64"
            ]
          },
          "metadata": {},
          "execution_count": 69
        }
      ]
    },
    {
      "cell_type": "markdown",
      "source": [
        "*BODY TYPE*"
      ],
      "metadata": {
        "id": "7mWDL3dlP7zN"
      }
    },
    {
      "cell_type": "code",
      "source": [
        "car['Body_Type'].isnull().sum()"
      ],
      "metadata": {
        "colab": {
          "base_uri": "https://localhost:8080/"
        },
        "id": "mTCUDIDjP99t",
        "outputId": "be80cd02-2bd2-4a94-a499-39490605e74e"
      },
      "execution_count": 70,
      "outputs": [
        {
          "output_type": "execute_result",
          "data": {
            "text/plain": [
              "6"
            ]
          },
          "metadata": {},
          "execution_count": 70
        }
      ]
    },
    {
      "cell_type": "code",
      "source": [
        "car['Body_Type']=car['Body_Type'].replace(np.nan, 'Unknown')"
      ],
      "metadata": {
        "id": "TSTLMRNwQCB-"
      },
      "execution_count": 71,
      "outputs": []
    },
    {
      "cell_type": "markdown",
      "source": [
        "*LENGTH ,HEIGHT ,WIDTH COLUMN*"
      ],
      "metadata": {
        "id": "fNz0HctnQIhk"
      }
    },
    {
      "cell_type": "code",
      "source": [
        "car['Length'] = car.Length.str.replace('mm','')\n",
        "car['Length'].astype(float)\n",
        "\n",
        "car['Width'] = car.Width.str.replace('mm','')\n",
        "car['Width'].astype(float)"
      ],
      "metadata": {
        "colab": {
          "base_uri": "https://localhost:8080/"
        },
        "id": "XKk0sHGAQN68",
        "outputId": "c8e8048b-ede6-41b0-fa7f-46b59f2312f5"
      },
      "execution_count": 72,
      "outputs": [
        {
          "output_type": "execute_result",
          "data": {
            "text/plain": [
              "0       1750.0\n",
              "1       1750.0\n",
              "2       1750.0\n",
              "3       1750.0\n",
              "4       1750.0\n",
              "         ...  \n",
              "1271    1695.0\n",
              "1272    1695.0\n",
              "1273    1695.0\n",
              "1274    1695.0\n",
              "1275    1875.0\n",
              "Name: Width, Length: 1183, dtype: float64"
            ]
          },
          "metadata": {},
          "execution_count": 72
        }
      ]
    },
    {
      "cell_type": "code",
      "source": [
        "car['Width'] = car['Width'].replace(np.nan,car.Width.median())"
      ],
      "metadata": {
        "id": "dcjXwCYjQRJC"
      },
      "execution_count": 73,
      "outputs": []
    },
    {
      "cell_type": "code",
      "source": [
        "car['Height'] = car.Height.str.replace('mm','')\n",
        "car['Height'].astype(float)"
      ],
      "metadata": {
        "colab": {
          "base_uri": "https://localhost:8080/"
        },
        "id": "jEHowLoBQTFv",
        "outputId": "55cdec98-bdcc-4eee-839a-145989475ecb"
      },
      "execution_count": 74,
      "outputs": [
        {
          "output_type": "execute_result",
          "data": {
            "text/plain": [
              "0       1652.0\n",
              "1       1652.0\n",
              "2       1652.0\n",
              "3       1652.0\n",
              "4       1652.0\n",
              "         ...  \n",
              "1271    1495.0\n",
              "1272    1495.0\n",
              "1273    1495.0\n",
              "1274    1495.0\n",
              "1275    1900.0\n",
              "Name: Height, Length: 1183, dtype: float64"
            ]
          },
          "metadata": {},
          "execution_count": 74
        }
      ]
    },
    {
      "cell_type": "code",
      "source": [
        "car['Height'] = car['Height'].replace(np.nan,car.Height.median())"
      ],
      "metadata": {
        "id": "z80BWHelQVlw"
      },
      "execution_count": 75,
      "outputs": []
    },
    {
      "cell_type": "code",
      "source": [
        "car.isnull().sum()"
      ],
      "metadata": {
        "colab": {
          "base_uri": "https://localhost:8080/"
        },
        "id": "u01oNm2pQXXe",
        "outputId": "63280a2e-832a-4eba-840e-24019ce6398a"
      },
      "execution_count": 76,
      "outputs": [
        {
          "output_type": "execute_result",
          "data": {
            "text/plain": [
              "Company                0\n",
              "Variant                0\n",
              "Ex-Showroom_Price      0\n",
              "Displacement           0\n",
              "Seating_Capacity       0\n",
              "Cylinders              0\n",
              "Fuel_System            0\n",
              "Body_Type              0\n",
              "Fuel_Tank_Capacity    53\n",
              "Fuel_Type              0\n",
              "Height                 0\n",
              "Length                 0\n",
              "Width                  0\n",
              "City_Mileage           0\n",
              "Parking_Assistance     0\n",
              "Child_Safety_Locks     0\n",
              "Seating_Capacity       0\n",
              "Basic_Warranty         0\n",
              "Number_of_Airbags      0\n",
              "Navigation_System      0\n",
              "dtype: int64"
            ]
          },
          "metadata": {},
          "execution_count": 76
        }
      ]
    },
    {
      "cell_type": "code",
      "source": [
        "car.head()"
      ],
      "metadata": {
        "colab": {
          "base_uri": "https://localhost:8080/",
          "height": 417
        },
        "id": "1gadrc9RQZjX",
        "outputId": "330f88d3-278d-46a0-a995-24432b28feda"
      },
      "execution_count": 77,
      "outputs": [
        {
          "output_type": "execute_result",
          "data": {
            "text/plain": [
              "          Company  Variant  Ex-Showroom_Price  Displacement  Seating_Capacity  \\\n",
              "0  Tata-Nano Genx       Xt             292667           624                 4   \n",
              "1  Tata-Nano Genx       Xe             236447           624                 4   \n",
              "2  Tata-Nano Genx  Emax Xm             296661           624                 4   \n",
              "3  Tata-Nano Genx      Xta             334768           624                 4   \n",
              "4  Tata-Nano Genx       Xm             272223           624                 4   \n",
              "\n",
              "   Cylinders Fuel_System  Body_Type Fuel_Tank_Capacity Fuel_Type Height  \\\n",
              "0          2   Injection  Hatchback                24     Petrol  1652    \n",
              "1          2   Injection  Hatchback                24     Petrol  1652    \n",
              "2          2   Injection  Hatchback                15        CNG  1652    \n",
              "3          2   Injection  Hatchback                24     Petrol  1652    \n",
              "4          2   Injection  Hatchback                24     Petrol  1652    \n",
              "\n",
              "  Length  Width  City_Mileage Parking_Assistance Child_Safety_Locks  \\\n",
              "0  3164   1750           23.6                 No                Yes   \n",
              "1  3164   1750           23.6                 No                Yes   \n",
              "2  3164   1750           15.5                 No                Yes   \n",
              "3  3164   1750           23.6                 No                Yes   \n",
              "4  3164   1750           23.6                 No                Yes   \n",
              "\n",
              "   Seating_Capacity  Basic_Warranty  Number_of_Airbags Navigation_System  \n",
              "0                 4               2                  2                No  \n",
              "1                 4               2                  2                No  \n",
              "2                 4               2                  2                No  \n",
              "3                 4               2                  2                No  \n",
              "4                 4               2                  2                No  "
            ],
            "text/html": [
              "\n",
              "  <div id=\"df-ec69518f-ebcf-4a66-b6c3-3415608e50c9\" class=\"colab-df-container\">\n",
              "    <div>\n",
              "<style scoped>\n",
              "    .dataframe tbody tr th:only-of-type {\n",
              "        vertical-align: middle;\n",
              "    }\n",
              "\n",
              "    .dataframe tbody tr th {\n",
              "        vertical-align: top;\n",
              "    }\n",
              "\n",
              "    .dataframe thead th {\n",
              "        text-align: right;\n",
              "    }\n",
              "</style>\n",
              "<table border=\"1\" class=\"dataframe\">\n",
              "  <thead>\n",
              "    <tr style=\"text-align: right;\">\n",
              "      <th></th>\n",
              "      <th>Company</th>\n",
              "      <th>Variant</th>\n",
              "      <th>Ex-Showroom_Price</th>\n",
              "      <th>Displacement</th>\n",
              "      <th>Seating_Capacity</th>\n",
              "      <th>Cylinders</th>\n",
              "      <th>Fuel_System</th>\n",
              "      <th>Body_Type</th>\n",
              "      <th>Fuel_Tank_Capacity</th>\n",
              "      <th>Fuel_Type</th>\n",
              "      <th>Height</th>\n",
              "      <th>Length</th>\n",
              "      <th>Width</th>\n",
              "      <th>City_Mileage</th>\n",
              "      <th>Parking_Assistance</th>\n",
              "      <th>Child_Safety_Locks</th>\n",
              "      <th>Seating_Capacity</th>\n",
              "      <th>Basic_Warranty</th>\n",
              "      <th>Number_of_Airbags</th>\n",
              "      <th>Navigation_System</th>\n",
              "    </tr>\n",
              "  </thead>\n",
              "  <tbody>\n",
              "    <tr>\n",
              "      <th>0</th>\n",
              "      <td>Tata-Nano Genx</td>\n",
              "      <td>Xt</td>\n",
              "      <td>292667</td>\n",
              "      <td>624</td>\n",
              "      <td>4</td>\n",
              "      <td>2</td>\n",
              "      <td>Injection</td>\n",
              "      <td>Hatchback</td>\n",
              "      <td>24</td>\n",
              "      <td>Petrol</td>\n",
              "      <td>1652</td>\n",
              "      <td>3164</td>\n",
              "      <td>1750</td>\n",
              "      <td>23.6</td>\n",
              "      <td>No</td>\n",
              "      <td>Yes</td>\n",
              "      <td>4</td>\n",
              "      <td>2</td>\n",
              "      <td>2</td>\n",
              "      <td>No</td>\n",
              "    </tr>\n",
              "    <tr>\n",
              "      <th>1</th>\n",
              "      <td>Tata-Nano Genx</td>\n",
              "      <td>Xe</td>\n",
              "      <td>236447</td>\n",
              "      <td>624</td>\n",
              "      <td>4</td>\n",
              "      <td>2</td>\n",
              "      <td>Injection</td>\n",
              "      <td>Hatchback</td>\n",
              "      <td>24</td>\n",
              "      <td>Petrol</td>\n",
              "      <td>1652</td>\n",
              "      <td>3164</td>\n",
              "      <td>1750</td>\n",
              "      <td>23.6</td>\n",
              "      <td>No</td>\n",
              "      <td>Yes</td>\n",
              "      <td>4</td>\n",
              "      <td>2</td>\n",
              "      <td>2</td>\n",
              "      <td>No</td>\n",
              "    </tr>\n",
              "    <tr>\n",
              "      <th>2</th>\n",
              "      <td>Tata-Nano Genx</td>\n",
              "      <td>Emax Xm</td>\n",
              "      <td>296661</td>\n",
              "      <td>624</td>\n",
              "      <td>4</td>\n",
              "      <td>2</td>\n",
              "      <td>Injection</td>\n",
              "      <td>Hatchback</td>\n",
              "      <td>15</td>\n",
              "      <td>CNG</td>\n",
              "      <td>1652</td>\n",
              "      <td>3164</td>\n",
              "      <td>1750</td>\n",
              "      <td>15.5</td>\n",
              "      <td>No</td>\n",
              "      <td>Yes</td>\n",
              "      <td>4</td>\n",
              "      <td>2</td>\n",
              "      <td>2</td>\n",
              "      <td>No</td>\n",
              "    </tr>\n",
              "    <tr>\n",
              "      <th>3</th>\n",
              "      <td>Tata-Nano Genx</td>\n",
              "      <td>Xta</td>\n",
              "      <td>334768</td>\n",
              "      <td>624</td>\n",
              "      <td>4</td>\n",
              "      <td>2</td>\n",
              "      <td>Injection</td>\n",
              "      <td>Hatchback</td>\n",
              "      <td>24</td>\n",
              "      <td>Petrol</td>\n",
              "      <td>1652</td>\n",
              "      <td>3164</td>\n",
              "      <td>1750</td>\n",
              "      <td>23.6</td>\n",
              "      <td>No</td>\n",
              "      <td>Yes</td>\n",
              "      <td>4</td>\n",
              "      <td>2</td>\n",
              "      <td>2</td>\n",
              "      <td>No</td>\n",
              "    </tr>\n",
              "    <tr>\n",
              "      <th>4</th>\n",
              "      <td>Tata-Nano Genx</td>\n",
              "      <td>Xm</td>\n",
              "      <td>272223</td>\n",
              "      <td>624</td>\n",
              "      <td>4</td>\n",
              "      <td>2</td>\n",
              "      <td>Injection</td>\n",
              "      <td>Hatchback</td>\n",
              "      <td>24</td>\n",
              "      <td>Petrol</td>\n",
              "      <td>1652</td>\n",
              "      <td>3164</td>\n",
              "      <td>1750</td>\n",
              "      <td>23.6</td>\n",
              "      <td>No</td>\n",
              "      <td>Yes</td>\n",
              "      <td>4</td>\n",
              "      <td>2</td>\n",
              "      <td>2</td>\n",
              "      <td>No</td>\n",
              "    </tr>\n",
              "  </tbody>\n",
              "</table>\n",
              "</div>\n",
              "    <div class=\"colab-df-buttons\">\n",
              "\n",
              "  <div class=\"colab-df-container\">\n",
              "    <button class=\"colab-df-convert\" onclick=\"convertToInteractive('df-ec69518f-ebcf-4a66-b6c3-3415608e50c9')\"\n",
              "            title=\"Convert this dataframe to an interactive table.\"\n",
              "            style=\"display:none;\">\n",
              "\n",
              "  <svg xmlns=\"http://www.w3.org/2000/svg\" height=\"24px\" viewBox=\"0 -960 960 960\">\n",
              "    <path d=\"M120-120v-720h720v720H120Zm60-500h600v-160H180v160Zm220 220h160v-160H400v160Zm0 220h160v-160H400v160ZM180-400h160v-160H180v160Zm440 0h160v-160H620v160ZM180-180h160v-160H180v160Zm440 0h160v-160H620v160Z\"/>\n",
              "  </svg>\n",
              "    </button>\n",
              "\n",
              "  <style>\n",
              "    .colab-df-container {\n",
              "      display:flex;\n",
              "      gap: 12px;\n",
              "    }\n",
              "\n",
              "    .colab-df-convert {\n",
              "      background-color: #E8F0FE;\n",
              "      border: none;\n",
              "      border-radius: 50%;\n",
              "      cursor: pointer;\n",
              "      display: none;\n",
              "      fill: #1967D2;\n",
              "      height: 32px;\n",
              "      padding: 0 0 0 0;\n",
              "      width: 32px;\n",
              "    }\n",
              "\n",
              "    .colab-df-convert:hover {\n",
              "      background-color: #E2EBFA;\n",
              "      box-shadow: 0px 1px 2px rgba(60, 64, 67, 0.3), 0px 1px 3px 1px rgba(60, 64, 67, 0.15);\n",
              "      fill: #174EA6;\n",
              "    }\n",
              "\n",
              "    .colab-df-buttons div {\n",
              "      margin-bottom: 4px;\n",
              "    }\n",
              "\n",
              "    [theme=dark] .colab-df-convert {\n",
              "      background-color: #3B4455;\n",
              "      fill: #D2E3FC;\n",
              "    }\n",
              "\n",
              "    [theme=dark] .colab-df-convert:hover {\n",
              "      background-color: #434B5C;\n",
              "      box-shadow: 0px 1px 3px 1px rgba(0, 0, 0, 0.15);\n",
              "      filter: drop-shadow(0px 1px 2px rgba(0, 0, 0, 0.3));\n",
              "      fill: #FFFFFF;\n",
              "    }\n",
              "  </style>\n",
              "\n",
              "    <script>\n",
              "      const buttonEl =\n",
              "        document.querySelector('#df-ec69518f-ebcf-4a66-b6c3-3415608e50c9 button.colab-df-convert');\n",
              "      buttonEl.style.display =\n",
              "        google.colab.kernel.accessAllowed ? 'block' : 'none';\n",
              "\n",
              "      async function convertToInteractive(key) {\n",
              "        const element = document.querySelector('#df-ec69518f-ebcf-4a66-b6c3-3415608e50c9');\n",
              "        const dataTable =\n",
              "          await google.colab.kernel.invokeFunction('convertToInteractive',\n",
              "                                                    [key], {});\n",
              "        if (!dataTable) return;\n",
              "\n",
              "        const docLinkHtml = 'Like what you see? Visit the ' +\n",
              "          '<a target=\"_blank\" href=https://colab.research.google.com/notebooks/data_table.ipynb>data table notebook</a>'\n",
              "          + ' to learn more about interactive tables.';\n",
              "        element.innerHTML = '';\n",
              "        dataTable['output_type'] = 'display_data';\n",
              "        await google.colab.output.renderOutput(dataTable, element);\n",
              "        const docLink = document.createElement('div');\n",
              "        docLink.innerHTML = docLinkHtml;\n",
              "        element.appendChild(docLink);\n",
              "      }\n",
              "    </script>\n",
              "  </div>\n",
              "\n",
              "\n",
              "<div id=\"df-5ba815aa-dd6b-4f73-98d9-1aba972a9dc9\">\n",
              "  <button class=\"colab-df-quickchart\" onclick=\"quickchart('df-5ba815aa-dd6b-4f73-98d9-1aba972a9dc9')\"\n",
              "            title=\"Suggest charts\"\n",
              "            style=\"display:none;\">\n",
              "\n",
              "<svg xmlns=\"http://www.w3.org/2000/svg\" height=\"24px\"viewBox=\"0 0 24 24\"\n",
              "     width=\"24px\">\n",
              "    <g>\n",
              "        <path d=\"M19 3H5c-1.1 0-2 .9-2 2v14c0 1.1.9 2 2 2h14c1.1 0 2-.9 2-2V5c0-1.1-.9-2-2-2zM9 17H7v-7h2v7zm4 0h-2V7h2v10zm4 0h-2v-4h2v4z\"/>\n",
              "    </g>\n",
              "</svg>\n",
              "  </button>\n",
              "\n",
              "<style>\n",
              "  .colab-df-quickchart {\n",
              "      --bg-color: #E8F0FE;\n",
              "      --fill-color: #1967D2;\n",
              "      --hover-bg-color: #E2EBFA;\n",
              "      --hover-fill-color: #174EA6;\n",
              "      --disabled-fill-color: #AAA;\n",
              "      --disabled-bg-color: #DDD;\n",
              "  }\n",
              "\n",
              "  [theme=dark] .colab-df-quickchart {\n",
              "      --bg-color: #3B4455;\n",
              "      --fill-color: #D2E3FC;\n",
              "      --hover-bg-color: #434B5C;\n",
              "      --hover-fill-color: #FFFFFF;\n",
              "      --disabled-bg-color: #3B4455;\n",
              "      --disabled-fill-color: #666;\n",
              "  }\n",
              "\n",
              "  .colab-df-quickchart {\n",
              "    background-color: var(--bg-color);\n",
              "    border: none;\n",
              "    border-radius: 50%;\n",
              "    cursor: pointer;\n",
              "    display: none;\n",
              "    fill: var(--fill-color);\n",
              "    height: 32px;\n",
              "    padding: 0;\n",
              "    width: 32px;\n",
              "  }\n",
              "\n",
              "  .colab-df-quickchart:hover {\n",
              "    background-color: var(--hover-bg-color);\n",
              "    box-shadow: 0 1px 2px rgba(60, 64, 67, 0.3), 0 1px 3px 1px rgba(60, 64, 67, 0.15);\n",
              "    fill: var(--button-hover-fill-color);\n",
              "  }\n",
              "\n",
              "  .colab-df-quickchart-complete:disabled,\n",
              "  .colab-df-quickchart-complete:disabled:hover {\n",
              "    background-color: var(--disabled-bg-color);\n",
              "    fill: var(--disabled-fill-color);\n",
              "    box-shadow: none;\n",
              "  }\n",
              "\n",
              "  .colab-df-spinner {\n",
              "    border: 2px solid var(--fill-color);\n",
              "    border-color: transparent;\n",
              "    border-bottom-color: var(--fill-color);\n",
              "    animation:\n",
              "      spin 1s steps(1) infinite;\n",
              "  }\n",
              "\n",
              "  @keyframes spin {\n",
              "    0% {\n",
              "      border-color: transparent;\n",
              "      border-bottom-color: var(--fill-color);\n",
              "      border-left-color: var(--fill-color);\n",
              "    }\n",
              "    20% {\n",
              "      border-color: transparent;\n",
              "      border-left-color: var(--fill-color);\n",
              "      border-top-color: var(--fill-color);\n",
              "    }\n",
              "    30% {\n",
              "      border-color: transparent;\n",
              "      border-left-color: var(--fill-color);\n",
              "      border-top-color: var(--fill-color);\n",
              "      border-right-color: var(--fill-color);\n",
              "    }\n",
              "    40% {\n",
              "      border-color: transparent;\n",
              "      border-right-color: var(--fill-color);\n",
              "      border-top-color: var(--fill-color);\n",
              "    }\n",
              "    60% {\n",
              "      border-color: transparent;\n",
              "      border-right-color: var(--fill-color);\n",
              "    }\n",
              "    80% {\n",
              "      border-color: transparent;\n",
              "      border-right-color: var(--fill-color);\n",
              "      border-bottom-color: var(--fill-color);\n",
              "    }\n",
              "    90% {\n",
              "      border-color: transparent;\n",
              "      border-bottom-color: var(--fill-color);\n",
              "    }\n",
              "  }\n",
              "</style>\n",
              "\n",
              "  <script>\n",
              "    async function quickchart(key) {\n",
              "      const quickchartButtonEl =\n",
              "        document.querySelector('#' + key + ' button');\n",
              "      quickchartButtonEl.disabled = true;  // To prevent multiple clicks.\n",
              "      quickchartButtonEl.classList.add('colab-df-spinner');\n",
              "      try {\n",
              "        const charts = await google.colab.kernel.invokeFunction(\n",
              "            'suggestCharts', [key], {});\n",
              "      } catch (error) {\n",
              "        console.error('Error during call to suggestCharts:', error);\n",
              "      }\n",
              "      quickchartButtonEl.classList.remove('colab-df-spinner');\n",
              "      quickchartButtonEl.classList.add('colab-df-quickchart-complete');\n",
              "    }\n",
              "    (() => {\n",
              "      let quickchartButtonEl =\n",
              "        document.querySelector('#df-5ba815aa-dd6b-4f73-98d9-1aba972a9dc9 button');\n",
              "      quickchartButtonEl.style.display =\n",
              "        google.colab.kernel.accessAllowed ? 'block' : 'none';\n",
              "    })();\n",
              "  </script>\n",
              "</div>\n",
              "\n",
              "    </div>\n",
              "  </div>\n"
            ]
          },
          "metadata": {},
          "execution_count": 77
        }
      ]
    },
    {
      "cell_type": "code",
      "source": [
        "car.info(verbose=True)"
      ],
      "metadata": {
        "colab": {
          "base_uri": "https://localhost:8080/"
        },
        "id": "E8AgBOWPQbWR",
        "outputId": "399c04cb-bae1-4f53-90d0-13c9bba14b31"
      },
      "execution_count": 78,
      "outputs": [
        {
          "output_type": "stream",
          "name": "stdout",
          "text": [
            "<class 'pandas.core.frame.DataFrame'>\n",
            "Int64Index: 1183 entries, 0 to 1275\n",
            "Data columns (total 20 columns):\n",
            " #   Column              Non-Null Count  Dtype  \n",
            "---  ------              --------------  -----  \n",
            " 0   Company             1183 non-null   object \n",
            " 1   Variant             1183 non-null   object \n",
            " 2   Ex-Showroom_Price   1183 non-null   int64  \n",
            " 3   Displacement        1183 non-null   int64  \n",
            " 4   Seating_Capacity    1183 non-null   int64  \n",
            " 5   Cylinders           1183 non-null   int64  \n",
            " 6   Fuel_System         1183 non-null   object \n",
            " 7   Body_Type           1183 non-null   object \n",
            " 8   Fuel_Tank_Capacity  1130 non-null   object \n",
            " 9   Fuel_Type           1183 non-null   object \n",
            " 10  Height              1183 non-null   object \n",
            " 11  Length              1183 non-null   object \n",
            " 12  Width               1183 non-null   object \n",
            " 13  City_Mileage        1183 non-null   float64\n",
            " 14  Parking_Assistance  1183 non-null   object \n",
            " 15  Child_Safety_Locks  1183 non-null   object \n",
            " 16  Seating_Capacity    1183 non-null   int64  \n",
            " 17  Basic_Warranty      1183 non-null   int64  \n",
            " 18  Number_of_Airbags   1183 non-null   int64  \n",
            " 19  Navigation_System   1183 non-null   object \n",
            "dtypes: float64(1), int64(7), object(12)\n",
            "memory usage: 194.1+ KB\n"
          ]
        }
      ]
    },
    {
      "cell_type": "markdown",
      "source": [
        "*VISUALIZATION*"
      ],
      "metadata": {
        "id": "Ml2DwVKBQdov"
      }
    },
    {
      "cell_type": "code",
      "source": [
        "import seaborn as sns\n",
        "import matplotlib.pyplot as plt"
      ],
      "metadata": {
        "id": "cVgH_r7UQg_0"
      },
      "execution_count": 79,
      "outputs": []
    },
    {
      "cell_type": "markdown",
      "source": [
        "*HISTOGRAM*"
      ],
      "metadata": {
        "id": "FKkakXFQQjzs"
      }
    },
    {
      "cell_type": "code",
      "source": [
        "plt.ticklabel_format(style='plain')\n",
        "sns.histplot(car['Ex-Showroom_Price'], kde=True)\n",
        "plt.xlabel('Ex-showroom Price')\n",
        "plt.title('Histogram Plot')\n",
        "plt.show()"
      ],
      "metadata": {
        "colab": {
          "base_uri": "https://localhost:8080/",
          "height": 472
        },
        "id": "Uzuc_O-6Qn4m",
        "outputId": "54dddb32-160f-4bd8-fb6d-4fd696bcca8b"
      },
      "execution_count": 80,
      "outputs": [
        {
          "output_type": "display_data",
          "data": {
            "text/plain": [
              "<Figure size 640x480 with 1 Axes>"
            ],
            "image/png": "[encoded data removed]"
          },
          "metadata": {}
        }
      ]
    },
    {
      "cell_type": "markdown",
      "source": [
        "*BAR CHART*"
      ],
      "metadata": {
        "id": "mNELlXRWQtEs"
      }
    },
    {
      "cell_type": "code",
      "source": [
        "plt.figure(figsize=(11,6))\n",
        "sns.countplot(data=car, x='Fuel_Type',color='Blue')\n",
        "plt.title('Cars count by engine fuel type',fontsize=18)\n",
        "plt.xlabel('Fuel Type', fontsize=16)\n",
        "plt.ylabel('Count');"
      ],
      "metadata": {
        "colab": {
          "base_uri": "https://localhost:8080/",
          "height": 575
        },
        "id": "jWUtoYSmQvWB",
        "outputId": "6b28e586-e0b8-4d99-e353-b5ecb0419225"
      },
      "execution_count": 81,
      "outputs": [
        {
          "output_type": "display_data",
          "data": {
            "text/plain": [
              "<Figure size 1100x600 with 1 Axes>"
            ],
            "image/png": "[encoded data removed]"
          },
          "metadata": {}
        }
      ]
    },
    {
      "cell_type": "code",
      "source": [
        "top_company = car.Company.value_counts().head(10)\n",
        "top_company"
      ],
      "metadata": {
        "colab": {
          "base_uri": "https://localhost:8080/"
        },
        "id": "_Ntpk7k-Q2-H",
        "outputId": "8a14b0aa-1621-4abb-fed8-0d74d03663a1"
      },
      "execution_count": 82,
      "outputs": [
        {
          "output_type": "execute_result",
          "data": {
            "text/plain": [
              "Tata-Nexon              24\n",
              "Mahindra-Kuv100 Nxt     22\n",
              "Jeep-Compass            21\n",
              "Mahindra-Xuv500         21\n",
              "Honda-Amaze             20\n",
              "Hyundai-Creta           18\n",
              "Kia-Seltos              16\n",
              "Toyota-Innova Crysta    16\n",
              "Toyota-Etios Liva       14\n",
              "Maruti Suzuki-Ciaz      14\n",
              "Name: Company, dtype: int64"
            ]
          },
          "metadata": {},
          "execution_count": 82
        }
      ]
    },
    {
      "cell_type": "code",
      "source": [
        "\n",
        "plt.figure(figsize=(6,6))\n",
        "plt.pie(x=top_company,labels=['Tata-Nexon','Mahindra-Kuv100 Nxt','Jeep-Compass','Mahindra-Xuv500',\n",
        "'Honda-Amaze','Hyundai-Creta','Kia-Seltos','Toyota-Innova Crysta','Maruti Suzuki-Swift','Maruti Suzuki-Ciaz'],autopct='%1.1f%%')\n",
        "plt.title('TOP 10 CARS')\n",
        "plt.tight_layout()\n"
      ],
      "metadata": {
        "colab": {
          "base_uri": "https://localhost:8080/",
          "height": 469
        },
        "id": "9RNTAlrEQ6g-",
        "outputId": "e147aae3-6336-4729-9741-7cc98c6bbe94"
      },
      "execution_count": 84,
      "outputs": [
        {
          "output_type": "display_data",
          "data": {
            "text/plain": [
              "<Figure size 600x600 with 1 Axes>"
            ],
            "image/png": "[encoded data removed]"
          },
          "metadata": {}
        }
      ]
    },
    {
      "cell_type": "code",
      "source": [
        "plt.figure(figsize=(6,6))\n",
        "sns.countplot(x=car['Number_of_Airbags'])\n",
        "plt.title('Most number of airbags used')\n",
        "plt.tight_layout()"
      ],
      "metadata": {
        "colab": {
          "base_uri": "https://localhost:8080/",
          "height": 607
        },
        "id": "6qw2pq-2RFcW",
        "outputId": "c655cb14-ed25-4261-dccf-1e0cbaa34d13"
      },
      "execution_count": 85,
      "outputs": [
        {
          "output_type": "display_data",
          "data": {
            "text/plain": [
              "<Figure size 600x600 with 1 Axes>"
            ],
            "image/png": "[encoded data removed]"
          },
          "metadata": {}
        }
      ]
    },
    {
      "cell_type": "markdown",
      "source": [
        "*BOXPLOT*"
      ],
      "metadata": {
        "id": "BdVdDYiiRKVu"
      }
    },
    {
      "cell_type": "code",
      "source": [
        "plt.figure(figsize=(10, 6))\n",
        "sns.boxplot(x=car['Ex-Showroom_Price'])\n",
        "plt.title('BOXPLOT OF PRICES')\n",
        "plt.xlabel('Ex-Showroom_Price')\n",
        "plt.show()\n",
        "\n"
      ],
      "metadata": {
        "colab": {
          "base_uri": "https://localhost:8080/",
          "height": 564
        },
        "id": "KNHcbj82RNEA",
        "outputId": "17ee7ebd-cf20-4daa-82f6-fd6dbc5c23cc"
      },
      "execution_count": 87,
      "outputs": [
        {
          "output_type": "display_data",
          "data": {
            "text/plain": [
              "<Figure size 1000x600 with 1 Axes>"
            ],
            "image/png": "[encoded data removed]"
          },
          "metadata": {}
        }
      ]
    },
    {
      "cell_type": "markdown",
      "source": [
        "*BIVARIATE ANALYSIS*"
      ],
      "metadata": {
        "id": "fRYk1g-JRV0A"
      }
    },
    {
      "cell_type": "code",
      "source": [
        "corr = car.corr()\n",
        "corr"
      ],
      "metadata": {
        "colab": {
          "base_uri": "https://localhost:8080/",
          "height": 389
        },
        "id": "hMsv2WQfRZ7y",
        "outputId": "20752cec-79a2-4008-a199-356cda04e904"
      },
      "execution_count": 89,
      "outputs": [
        {
          "output_type": "stream",
          "name": "stderr",
          "text": [
            "<ipython-input-89-a722eb746ce6>:1: FutureWarning: The default value of numeric_only in DataFrame.corr is deprecated. In a future version, it will default to False. Select only valid columns or specify the value of numeric_only to silence this warning.\n",
            "  corr = car.corr()\n"
          ]
        },
        {
          "output_type": "execute_result",
          "data": {
            "text/plain": [
              "                   Ex-Showroom_Price  Displacement  Seating_Capacity  \\\n",
              "Ex-Showroom_Price           1.000000      0.761696         -0.315788   \n",
              "Displacement                0.761696      1.000000         -0.138090   \n",
              "Seating_Capacity           -0.315788     -0.138090          1.000000   \n",
              "Cylinders                   0.789381      0.856807         -0.315328   \n",
              "City_Mileage               -0.009306     -0.011581         -0.007238   \n",
              "Seating_Capacity           -0.315788     -0.138090          1.000000   \n",
              "Basic_Warranty             -0.019288     -0.013752         -0.014142   \n",
              "Number_of_Airbags           0.333991      0.548646         -0.024025   \n",
              "\n",
              "                   Cylinders  City_Mileage  Seating_Capacity  Basic_Warranty  \\\n",
              "Ex-Showroom_Price   0.789381     -0.009306         -0.315788       -0.019288   \n",
              "Displacement        0.856807     -0.011581         -0.138090       -0.013752   \n",
              "Seating_Capacity   -0.315328     -0.007238          1.000000       -0.014142   \n",
              "Cylinders           1.000000     -0.007510         -0.315328       -0.020840   \n",
              "City_Mileage       -0.007510      1.000000         -0.007238       -0.006534   \n",
              "Seating_Capacity   -0.315328     -0.007238          1.000000       -0.014142   \n",
              "Basic_Warranty     -0.020840     -0.006534         -0.014142        1.000000   \n",
              "Number_of_Airbags   0.448532     -0.019219         -0.024025       -0.067612   \n",
              "\n",
              "                   Number_of_Airbags  \n",
              "Ex-Showroom_Price           0.333991  \n",
              "Displacement                0.548646  \n",
              "Seating_Capacity           -0.024025  \n",
              "Cylinders                   0.448532  \n",
              "City_Mileage               -0.019219  \n",
              "Seating_Capacity           -0.024025  \n",
              "Basic_Warranty             -0.067612  \n",
              "Number_of_Airbags           1.000000  "
            ],
            "text/html": [
              "\n",
              "  <div id=\"df-78035699-a834-4a94-aad3-7d81ab822038\" class=\"colab-df-container\">\n",
              "    <div>\n",
              "<style scoped>\n",
              "    .dataframe tbody tr th:only-of-type {\n",
              "        vertical-align: middle;\n",
              "    }\n",
              "\n",
              "    .dataframe tbody tr th {\n",
              "        vertical-align: top;\n",
              "    }\n",
              "\n",
              "    .dataframe thead th {\n",
              "        text-align: right;\n",
              "    }\n",
              "</style>\n",
              "<table border=\"1\" class=\"dataframe\">\n",
              "  <thead>\n",
              "    <tr style=\"text-align: right;\">\n",
              "      <th></th>\n",
              "      <th>Ex-Showroom_Price</th>\n",
              "      <th>Displacement</th>\n",
              "      <th>Seating_Capacity</th>\n",
              "      <th>Cylinders</th>\n",
              "      <th>City_Mileage</th>\n",
              "      <th>Seating_Capacity</th>\n",
              "      <th>Basic_Warranty</th>\n",
              "      <th>Number_of_Airbags</th>\n",
              "    </tr>\n",
              "  </thead>\n",
              "  <tbody>\n",
              "    <tr>\n",
              "      <th>Ex-Showroom_Price</th>\n",
              "      <td>1.000000</td>\n",
              "      <td>0.761696</td>\n",
              "      <td>-0.315788</td>\n",
              "      <td>0.789381</td>\n",
              "      <td>-0.009306</td>\n",
              "      <td>-0.315788</td>\n",
              "      <td>-0.019288</td>\n",
              "      <td>0.333991</td>\n",
              "    </tr>\n",
              "    <tr>\n",
              "      <th>Displacement</th>\n",
              "      <td>0.761696</td>\n",
              "      <td>1.000000</td>\n",
              "      <td>-0.138090</td>\n",
              "      <td>0.856807</td>\n",
              "      <td>-0.011581</td>\n",
              "      <td>-0.138090</td>\n",
              "      <td>-0.013752</td>\n",
              "      <td>0.548646</td>\n",
              "    </tr>\n",
              "    <tr>\n",
              "      <th>Seating_Capacity</th>\n",
              "      <td>-0.315788</td>\n",
              "      <td>-0.138090</td>\n",
              "      <td>1.000000</td>\n",
              "      <td>-0.315328</td>\n",
              "      <td>-0.007238</td>\n",
              "      <td>1.000000</td>\n",
              "      <td>-0.014142</td>\n",
              "      <td>-0.024025</td>\n",
              "    </tr>\n",
              "    <tr>\n",
              "      <th>Cylinders</th>\n",
              "      <td>0.789381</td>\n",
              "      <td>0.856807</td>\n",
              "      <td>-0.315328</td>\n",
              "      <td>1.000000</td>\n",
              "      <td>-0.007510</td>\n",
              "      <td>-0.315328</td>\n",
              "      <td>-0.020840</td>\n",
              "      <td>0.448532</td>\n",
              "    </tr>\n",
              "    <tr>\n",
              "      <th>City_Mileage</th>\n",
              "      <td>-0.009306</td>\n",
              "      <td>-0.011581</td>\n",
              "      <td>-0.007238</td>\n",
              "      <td>-0.007510</td>\n",
              "      <td>1.000000</td>\n",
              "      <td>-0.007238</td>\n",
              "      <td>-0.006534</td>\n",
              "      <td>-0.019219</td>\n",
              "    </tr>\n",
              "    <tr>\n",
              "      <th>Seating_Capacity</th>\n",
              "      <td>-0.315788</td>\n",
              "      <td>-0.138090</td>\n",
              "      <td>1.000000</td>\n",
              "      <td>-0.315328</td>\n",
              "      <td>-0.007238</td>\n",
              "      <td>1.000000</td>\n",
              "      <td>-0.014142</td>\n",
              "      <td>-0.024025</td>\n",
              "    </tr>\n",
              "    <tr>\n",
              "      <th>Basic_Warranty</th>\n",
              "      <td>-0.019288</td>\n",
              "      <td>-0.013752</td>\n",
              "      <td>-0.014142</td>\n",
              "      <td>-0.020840</td>\n",
              "      <td>-0.006534</td>\n",
              "      <td>-0.014142</td>\n",
              "      <td>1.000000</td>\n",
              "      <td>-0.067612</td>\n",
              "    </tr>\n",
              "    <tr>\n",
              "      <th>Number_of_Airbags</th>\n",
              "      <td>0.333991</td>\n",
              "      <td>0.548646</td>\n",
              "      <td>-0.024025</td>\n",
              "      <td>0.448532</td>\n",
              "      <td>-0.019219</td>\n",
              "      <td>-0.024025</td>\n",
              "      <td>-0.067612</td>\n",
              "      <td>1.000000</td>\n",
              "    </tr>\n",
              "  </tbody>\n",
              "</table>\n",
              "</div>\n",
              "    <div class=\"colab-df-buttons\">\n",
              "\n",
              "  <div class=\"colab-df-container\">\n",
              "    <button class=\"colab-df-convert\" onclick=\"convertToInteractive('df-78035699-a834-4a94-aad3-7d81ab822038')\"\n",
              "            title=\"Convert this dataframe to an interactive table.\"\n",
              "            style=\"display:none;\">\n",
              "\n",
              "  <svg xmlns=\"http://www.w3.org/2000/svg\" height=\"24px\" viewBox=\"0 -960 960 960\">\n",
              "    <path d=\"M120-120v-720h720v720H120Zm60-500h600v-160H180v160Zm220 220h160v-160H400v160Zm0 220h160v-160H400v160ZM180-400h160v-160H180v160Zm440 0h160v-160H620v160ZM180-180h160v-160H180v160Zm440 0h160v-160H620v160Z\"/>\n",
              "  </svg>\n",
              "    </button>\n",
              "\n",
              "  <style>\n",
              "    .colab-df-container {\n",
              "      display:flex;\n",
              "      gap: 12px;\n",
              "    }\n",
              "\n",
              "    .colab-df-convert {\n",
              "      background-color: #E8F0FE;\n",
              "      border: none;\n",
              "      border-radius: 50%;\n",
              "      cursor: pointer;\n",
              "      display: none;\n",
              "      fill: #1967D2;\n",
              "      height: 32px;\n",
              "      padding: 0 0 0 0;\n",
              "      width: 32px;\n",
              "    }\n",
              "\n",
              "    .colab-df-convert:hover {\n",
              "      background-color: #E2EBFA;\n",
              "      box-shadow: 0px 1px 2px rgba(60, 64, 67, 0.3), 0px 1px 3px 1px rgba(60, 64, 67, 0.15);\n",
              "      fill: #174EA6;\n",
              "    }\n",
              "\n",
              "    .colab-df-buttons div {\n",
              "      margin-bottom: 4px;\n",
              "    }\n",
              "\n",
              "    [theme=dark] .colab-df-convert {\n",
              "      background-color: #3B4455;\n",
              "      fill: #D2E3FC;\n",
              "    }\n",
              "\n",
              "    [theme=dark] .colab-df-convert:hover {\n",
              "      background-color: #434B5C;\n",
              "      box-shadow: 0px 1px 3px 1px rgba(0, 0, 0, 0.15);\n",
              "      filter: drop-shadow(0px 1px 2px rgba(0, 0, 0, 0.3));\n",
              "      fill: #FFFFFF;\n",
              "    }\n",
              "  </style>\n",
              "\n",
              "    <script>\n",
              "      const buttonEl =\n",
              "        document.querySelector('#df-78035699-a834-4a94-aad3-7d81ab822038 button.colab-df-convert');\n",
              "      buttonEl.style.display =\n",
              "        google.colab.kernel.accessAllowed ? 'block' : 'none';\n",
              "\n",
              "      async function convertToInteractive(key) {\n",
              "        const element = document.querySelector('#df-78035699-a834-4a94-aad3-7d81ab822038');\n",
              "        const dataTable =\n",
              "          await google.colab.kernel.invokeFunction('convertToInteractive',\n",
              "                                                    [key], {});\n",
              "        if (!dataTable) return;\n",
              "\n",
              "        const docLinkHtml = 'Like what you see? Visit the ' +\n",
              "          '<a target=\"_blank\" href=https://colab.research.google.com/notebooks/data_table.ipynb>data table notebook</a>'\n",
              "          + ' to learn more about interactive tables.';\n",
              "        element.innerHTML = '';\n",
              "        dataTable['output_type'] = 'display_data';\n",
              "        await google.colab.output.renderOutput(dataTable, element);\n",
              "        const docLink = document.createElement('div');\n",
              "        docLink.innerHTML = docLinkHtml;\n",
              "        element.appendChild(docLink);\n",
              "      }\n",
              "    </script>\n",
              "  </div>\n",
              "\n",
              "\n",
              "<div id=\"df-f5b3c8d2-7b22-4636-a5bd-f6a81420db11\">\n",
              "  <button class=\"colab-df-quickchart\" onclick=\"quickchart('df-f5b3c8d2-7b22-4636-a5bd-f6a81420db11')\"\n",
              "            title=\"Suggest charts\"\n",
              "            style=\"display:none;\">\n",
              "\n",
              "<svg xmlns=\"http://www.w3.org/2000/svg\" height=\"24px\"viewBox=\"0 0 24 24\"\n",
              "     width=\"24px\">\n",
              "    <g>\n",
              "        <path d=\"M19 3H5c-1.1 0-2 .9-2 2v14c0 1.1.9 2 2 2h14c1.1 0 2-.9 2-2V5c0-1.1-.9-2-2-2zM9 17H7v-7h2v7zm4 0h-2V7h2v10zm4 0h-2v-4h2v4z\"/>\n",
              "    </g>\n",
              "</svg>\n",
              "  </button>\n",
              "\n",
              "<style>\n",
              "  .colab-df-quickchart {\n",
              "      --bg-color: #E8F0FE;\n",
              "      --fill-color: #1967D2;\n",
              "      --hover-bg-color: #E2EBFA;\n",
              "      --hover-fill-color: #174EA6;\n",
              "      --disabled-fill-color: #AAA;\n",
              "      --disabled-bg-color: #DDD;\n",
              "  }\n",
              "\n",
              "  [theme=dark] .colab-df-quickchart {\n",
              "      --bg-color: #3B4455;\n",
              "      --fill-color: #D2E3FC;\n",
              "      --hover-bg-color: #434B5C;\n",
              "      --hover-fill-color: #FFFFFF;\n",
              "      --disabled-bg-color: #3B4455;\n",
              "      --disabled-fill-color: #666;\n",
              "  }\n",
              "\n",
              "  .colab-df-quickchart {\n",
              "    background-color: var(--bg-color);\n",
              "    border: none;\n",
              "    border-radius: 50%;\n",
              "    cursor: pointer;\n",
              "    display: none;\n",
              "    fill: var(--fill-color);\n",
              "    height: 32px;\n",
              "    padding: 0;\n",
              "    width: 32px;\n",
              "  }\n",
              "\n",
              "  .colab-df-quickchart:hover {\n",
              "    background-color: var(--hover-bg-color);\n",
              "    box-shadow: 0 1px 2px rgba(60, 64, 67, 0.3), 0 1px 3px 1px rgba(60, 64, 67, 0.15);\n",
              "    fill: var(--button-hover-fill-color);\n",
              "  }\n",
              "\n",
              "  .colab-df-quickchart-complete:disabled,\n",
              "  .colab-df-quickchart-complete:disabled:hover {\n",
              "    background-color: var(--disabled-bg-color);\n",
              "    fill: var(--disabled-fill-color);\n",
              "    box-shadow: none;\n",
              "  }\n",
              "\n",
              "  .colab-df-spinner {\n",
              "    border: 2px solid var(--fill-color);\n",
              "    border-color: transparent;\n",
              "    border-bottom-color: var(--fill-color);\n",
              "    animation:\n",
              "      spin 1s steps(1) infinite;\n",
              "  }\n",
              "\n",
              "  @keyframes spin {\n",
              "    0% {\n",
              "      border-color: transparent;\n",
              "      border-bottom-color: var(--fill-color);\n",
              "      border-left-color: var(--fill-color);\n",
              "    }\n",
              "    20% {\n",
              "      border-color: transparent;\n",
              "      border-left-color: var(--fill-color);\n",
              "      border-top-color: var(--fill-color);\n",
              "    }\n",
              "    30% {\n",
              "      border-color: transparent;\n",
              "      border-left-color: var(--fill-color);\n",
              "      border-top-color: var(--fill-color);\n",
              "      border-right-color: var(--fill-color);\n",
              "    }\n",
              "    40% {\n",
              "      border-color: transparent;\n",
              "      border-right-color: var(--fill-color);\n",
              "      border-top-color: var(--fill-color);\n",
              "    }\n",
              "    60% {\n",
              "      border-color: transparent;\n",
              "      border-right-color: var(--fill-color);\n",
              "    }\n",
              "    80% {\n",
              "      border-color: transparent;\n",
              "      border-right-color: var(--fill-color);\n",
              "      border-bottom-color: var(--fill-color);\n",
              "    }\n",
              "    90% {\n",
              "      border-color: transparent;\n",
              "      border-bottom-color: var(--fill-color);\n",
              "    }\n",
              "  }\n",
              "</style>\n",
              "\n",
              "  <script>\n",
              "    async function quickchart(key) {\n",
              "      const quickchartButtonEl =\n",
              "        document.querySelector('#' + key + ' button');\n",
              "      quickchartButtonEl.disabled = true;  // To prevent multiple clicks.\n",
              "      quickchartButtonEl.classList.add('colab-df-spinner');\n",
              "      try {\n",
              "        const charts = await google.colab.kernel.invokeFunction(\n",
              "            'suggestCharts', [key], {});\n",
              "      } catch (error) {\n",
              "        console.error('Error during call to suggestCharts:', error);\n",
              "      }\n",
              "      quickchartButtonEl.classList.remove('colab-df-spinner');\n",
              "      quickchartButtonEl.classList.add('colab-df-quickchart-complete');\n",
              "    }\n",
              "    (() => {\n",
              "      let quickchartButtonEl =\n",
              "        document.querySelector('#df-f5b3c8d2-7b22-4636-a5bd-f6a81420db11 button');\n",
              "      quickchartButtonEl.style.display =\n",
              "        google.colab.kernel.accessAllowed ? 'block' : 'none';\n",
              "    })();\n",
              "  </script>\n",
              "</div>\n",
              "\n",
              "  <div id=\"id_0ba317cb-8e36-4b67-80ba-fe4c2e0d573c\">\n",
              "    <style>\n",
              "      .colab-df-generate {\n",
              "        background-color: #E8F0FE;\n",
              "        border: none;\n",
              "        border-radius: 50%;\n",
              "        cursor: pointer;\n",
              "        display: none;\n",
              "        fill: #1967D2;\n",
              "        height: 32px;\n",
              "        padding: 0 0 0 0;\n",
              "        width: 32px;\n",
              "      }\n",
              "\n",
              "      .colab-df-generate:hover {\n",
              "        background-color: #E2EBFA;\n",
              "        box-shadow: 0px 1px 2px rgba(60, 64, 67, 0.3), 0px 1px 3px 1px rgba(60, 64, 67, 0.15);\n",
              "        fill: #174EA6;\n",
              "      }\n",
              "\n",
              "      [theme=dark] .colab-df-generate {\n",
              "        background-color: #3B4455;\n",
              "        fill: #D2E3FC;\n",
              "      }\n",
              "\n",
              "      [theme=dark] .colab-df-generate:hover {\n",
              "        background-color: #434B5C;\n",
              "        box-shadow: 0px 1px 3px 1px rgba(0, 0, 0, 0.15);\n",
              "        filter: drop-shadow(0px 1px 2px rgba(0, 0, 0, 0.3));\n",
              "        fill: #FFFFFF;\n",
              "      }\n",
              "    </style>\n",
              "    <button class=\"colab-df-generate\" onclick=\"generateWithVariable('corr')\"\n",
              "            title=\"Generate code using this dataframe.\"\n",
              "            style=\"display:none;\">\n",
              "\n",
              "  <svg xmlns=\"http://www.w3.org/2000/svg\" height=\"24px\"viewBox=\"0 0 24 24\"\n",
              "       width=\"24px\">\n",
              "    <path d=\"M7,19H8.4L18.45,9,17,7.55,7,17.6ZM5,21V16.75L18.45,3.32a2,2,0,0,1,2.83,0l1.4,1.43a1.91,1.91,0,0,1,.58,1.4,1.91,1.91,0,0,1-.58,1.4L9.25,21ZM18.45,9,17,7.55Zm-12,3A5.31,5.31,0,0,0,4.9,8.1,5.31,5.31,0,0,0,1,6.5,5.31,5.31,0,0,0,4.9,4.9,5.31,5.31,0,0,0,6.5,1,5.31,5.31,0,0,0,8.1,4.9,5.31,5.31,0,0,0,12,6.5,5.46,5.46,0,0,0,6.5,12Z\"/>\n",
              "  </svg>\n",
              "    </button>\n",
              "    <script>\n",
              "      (() => {\n",
              "      const buttonEl =\n",
              "        document.querySelector('#id_0ba317cb-8e36-4b67-80ba-fe4c2e0d573c button.colab-df-generate');\n",
              "      buttonEl.style.display =\n",
              "        google.colab.kernel.accessAllowed ? 'block' : 'none';\n",
              "\n",
              "      buttonEl.onclick = () => {\n",
              "        google.colab.notebook.generateWithVariable('corr');\n",
              "      }\n",
              "      })();\n",
              "    </script>\n",
              "  </div>\n",
              "\n",
              "    </div>\n",
              "  </div>\n"
            ]
          },
          "metadata": {},
          "execution_count": 89
        }
      ]
    },
    {
      "cell_type": "code",
      "source": [
        "plt.figure(figsize=(8,8))\n",
        "sns.heatmap(corr, annot=True, cmap='coolwarm', fmt='.2f')\n",
        "plt.title('Correlation Matrix')"
      ],
      "metadata": {
        "colab": {
          "base_uri": "https://localhost:8080/",
          "height": 838
        },
        "id": "Ww4PYiFMRlBb",
        "outputId": "d269cfa1-85fc-402e-bd50-a4647441eb68"
      },
      "execution_count": 90,
      "outputs": [
        {
          "output_type": "execute_result",
          "data": {
            "text/plain": [
              "Text(0.5, 1.0, 'Correlation Matrix')"
            ]
          },
          "metadata": {},
          "execution_count": 90
        },
        {
          "output_type": "display_data",
          "data": {
            "text/plain": [
              "<Figure size 800x800 with 2 Axes>"
            ],
            "image/png": "[encoded data removed]"
          },
          "metadata": {}
        }
      ]
    },
    {
      "cell_type": "code",
      "source": [
        "plt.figure(figsize=(10,6))\n",
        "sns.barplot(data=car.head(250), x='Body_Type', y='Ex-Showroom_Price', hue='Fuel_Type')\n",
        "plt.title('Bar plot of Body Type wrt Price')"
      ],
      "metadata": {
        "colab": {
          "base_uri": "https://localhost:8080/",
          "height": 581
        },
        "id": "EHjQXjBmRn1s",
        "outputId": "b1d4cb52-70ae-4105-f9f1-ea54210084e3"
      },
      "execution_count": 91,
      "outputs": [
        {
          "output_type": "execute_result",
          "data": {
            "text/plain": [
              "Text(0.5, 1.0, 'Bar plot of Body Type wrt Price')"
            ]
          },
          "metadata": {},
          "execution_count": 91
        },
        {
          "output_type": "display_data",
          "data": {
            "text/plain": [
              "<Figure size 1000x600 with 1 Axes>"
            ],
            "image/png": "[encoded data removed]"
          },
          "metadata": {}
        }
      ]
    },
    {
      "cell_type": "markdown",
      "source": [
        "*CATEGORICAL PLOTS*"
      ],
      "metadata": {
        "id": "PKTTV5yiRrMK"
      }
    },
    {
      "cell_type": "code",
      "source": [
        "plt.figure(figsize=(10,6))\n",
        "sns.boxplot(x='Cylinders', y='Ex-Showroom_Price', data=car)\n",
        "plt.title('PRICE VS  CYLINDERS')\n",
        "plt.xlabel('CYLINDERS')\n",
        "plt.ylabel('PRICE')\n",
        "plt.tight_layout()"
      ],
      "metadata": {
        "colab": {
          "base_uri": "https://localhost:8080/",
          "height": 607
        },
        "id": "ohvGFJe_RwhB",
        "outputId": "c7993624-b0ac-422a-e688-67b35bbd8be1"
      },
      "execution_count": 93,
      "outputs": [
        {
          "output_type": "display_data",
          "data": {
            "text/plain": [
              "<Figure size 1000x600 with 1 Axes>"
            ],
            "image/png": "[encoded data removed]"
          },
          "metadata": {}
        }
      ]
    }
  ]
}